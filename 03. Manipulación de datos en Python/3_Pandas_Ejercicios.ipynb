{
 "cells": [
  {
   "cell_type": "markdown",
   "metadata": {
    "id": "9k-VcFePbwm2"
   },
   "source": [
    "# Ejercicio: Data input, output e iteración\n",
    "\n",
    "En esta primera parte, aprenderemos a:\n",
    "\n",
    "* Descargar ficheros y renombrarlos por comandos de Linux (mucho más eficiente que recurrir a librerías de Python). Esta será una práctica a la que nos iremos habituando a lo largo del curso.\n",
    "* Leer y escribir ficheros en formato `csv` con la librería `pandas`.\n",
    "* Iterar sobre las filas de un objeto `pd.DataFrame`.\n",
    "\n",
    "En lo relativo a la primera parte, para la descarga emplearemos el comando `wget` seguido de la URL en cuestión. Para la segunda parte, usaremos la estructura `mv <source>  <destination>`:\n",
    "\n",
    "```bash\n",
    "# Descargamos un fichero csv\n",
    "!wget https://www.stats.govt.nz/assets/Uploads/Gross-domestic-product/Gross-domestic-product-December-2021-quarter/Download-data/gross-domestic-product-December-2021-quarter-csv.csv\n",
    "# Lo renombramos para que sea más sencillo acceder a él\n",
    "!mv /content/gross-domestic-product-December-2021-quarter-csv.csv /content/dataset.csv\n",
    "```\n",
    "\n",
    "Cuando trabajamos en notebooks, es más cómodo guardar la URL como un enlace, y posteriormente la librería `pandas` se encarga por nosotros de importarlo:"
   ]
  },
  {
   "cell_type": "code",
   "execution_count": 7,
   "metadata": {
    "id": "gzz2OPA8b0Lj"
   },
   "outputs": [],
   "source": [
    "# Descargamos un fichero csv\n",
    "URL_data='https://www.stats.govt.nz/assets/Uploads/Gross-domestic-product/Gross-domestic-product-December-2021-quarter/Download-data/gross-domestic-product-December-2021-quarter-csv.csv'"
   ]
  },
  {
   "cell_type": "markdown",
   "metadata": {
    "id": "0QD9Qw51eKEB"
   },
   "source": [
    "Seguidamente, procedemos a leerlo:"
   ]
  },
  {
   "cell_type": "code",
   "execution_count": 8,
   "metadata": {
    "id": "YYoMTonDeJlh"
   },
   "outputs": [],
   "source": [
    "# Librerías\n",
    "import os\n",
    "import pandas as pd\n",
    "# Leemos archivo\n",
    "df = pd.read_csv(URL_data)"
   ]
  },
  {
   "cell_type": "markdown",
   "metadata": {
    "id": "kmfAfg25eRLK"
   },
   "source": [
    "Es conveniente hacer uso de la librería `os`, ya que a bajo nivel nos gestiona cuál es nuestro directorio activo actual (`os.getcwd()`) y nos permite fácilmente concatenar rutas para encontrar archivos (`os.path.join()`).\n",
    "\n",
    "Veamos ahora cómo realizar iteraciones. En `pandas` existen esencialmente dos métodos para ello:\n",
    "\n",
    "* `iterrows`: Enlace a [documentación](https://pandas.pydata.org/docs/reference/api/pandas.DataFrame.iterrows.html).\n",
    "* `itertuples`: Enlace a [documentación](https://pandas.pydata.org/docs/reference/api/pandas.DataFrame.itertuples.html).\n",
    "\n",
    "Tu objetivo será analizar la documentación e implementar un bucle donde se itere sobre las filas del `DataFrame` dejando un sencillo `pass` dentro del bucle, con el decorador `%%timeit` para evaluar qué método es más rápido. A continuación se muestra un ejemplo:\n",
    "\n",
    "```python\n",
    "%%timeit\n",
    "for elem in [1,2,3,4,5]:\n",
    "    pass\n",
    "```\n",
    "\n",
    "* Método iterrows:"
   ]
  },
  {
   "cell_type": "code",
   "execution_count": 9,
   "metadata": {
    "colab": {
     "base_uri": "https://localhost:8080/"
    },
    "id": "pDfr76pweow4",
    "outputId": "9d06f039-4a14-43e8-b3bd-37bdd71dbedb"
   },
   "outputs": [
    {
     "name": "stdout",
     "output_type": "stream",
     "text": [
      "3.47 s ± 451 ms per loop (mean ± std. dev. of 7 runs, 1 loop each)\n"
     ]
    }
   ],
   "source": [
    "%%timeit\n",
    "# Método iterrows\n",
    "for index, row in df.iterrows():\n",
    "    pass\n",
    "\n"
   ]
  },
  {
   "cell_type": "markdown",
   "metadata": {
    "id": "6OEXwdaxe_PB"
   },
   "source": [
    "*Tipo de respuesta esperada:*\n",
    "\n",
    "```python\n",
    "1 loop, best of 5: 3.28 s per loop\n",
    "```\n",
    "\n",
    "* Método `itertuples` por defecto:"
   ]
  },
  {
   "cell_type": "code",
   "execution_count": 10,
   "metadata": {
    "colab": {
     "base_uri": "https://localhost:8080/"
    },
    "id": "xwNBTW-wf0zx",
    "outputId": "0594d611-a2da-4f10-ac3f-a919988a3027"
   },
   "outputs": [
    {
     "name": "stdout",
     "output_type": "stream",
     "text": [
      "110 ms ± 1.76 ms per loop (mean ± std. dev. of 7 runs, 10 loops each)\n"
     ]
    }
   ],
   "source": [
    "%%timeit\n",
    "# Método itertuples\n",
    "for row in df.itertuples():\n",
    "    pass\n"
   ]
  },
  {
   "cell_type": "markdown",
   "metadata": {
    "id": "-1eurWD1fB2g"
   },
   "source": [
    "*Tipo de respuesta esperada:*\n",
    "\n",
    "```python\n",
    "1 loop, best of 5: 117 ms per loop\n",
    "```\n",
    "\n",
    "* Método `itertuples` sin contener los índices:"
   ]
  },
  {
   "cell_type": "code",
   "execution_count": 11,
   "metadata": {
    "id": "CT6MHyoFf1N5"
   },
   "outputs": [
    {
     "name": "stdout",
     "output_type": "stream",
     "text": [
      "103 ms ± 680 μs per loop (mean ± std. dev. of 7 runs, 10 loops each)\n"
     ]
    }
   ],
   "source": [
    "%%timeit\n",
    "# Método itertuples sin índices\n",
    "for row in df.itertuples(index=False):\n",
    "    pass\n"
   ]
  },
  {
   "cell_type": "markdown",
   "metadata": {
    "id": "g9BmcXiggmFU"
   },
   "source": [
    "*Tipo de respuesta esperada:*\n",
    "\n",
    "```python\n",
    "10 loops, best of 5: 118 ms per loop\n",
    "```"
   ]
  },
  {
   "cell_type": "markdown",
   "metadata": {
    "id": "dGEA3D1CVAYw"
   },
   "source": [
    "# Ejercicio Ecommerce\n",
    "\n",
    "En este ejercicio, se proporcionan datos ficticios sobre compras realizadas por Amazon, por lo que es posible que exista alguna incoherencia en los datos. Se trata de ir realizando cada uno de los ejercicios propuestos progresivamente. Hay más de una forma de hacerlos, y todos se pueden responder con una línea.\n",
    "\n",
    "El enlace es:\n",
    "\n",
    "```python\n",
    "URL_data = 'https://raw.githubusercontent.com/MatinMasimli/DataScience_ML_Udemy_Exercises/master/Ecommerce_purchases/Ecommerce%20Purchases.csv'\n",
    "```"
   ]
  },
  {
   "cell_type": "markdown",
   "metadata": {
    "id": "ejmPJ9STKgaj"
   },
   "source": [
    "Cargamos la librería pandas como 'pd' y numpy como 'np':"
   ]
  },
  {
   "cell_type": "code",
   "execution_count": 12,
   "metadata": {
    "id": "wmKubZv7KkTA"
   },
   "outputs": [],
   "source": [
    "import pandas as pd\n",
    "import numpy as np"
   ]
  },
  {
   "cell_type": "markdown",
   "metadata": {
    "id": "cBApMUCSVAY1"
   },
   "source": [
    "Ahora, leemos el DataFrame y mostramos sus cinco primeras filas:"
   ]
  },
  {
   "cell_type": "code",
   "execution_count": 13,
   "metadata": {
    "colab": {
     "base_uri": "https://localhost:8080/",
     "height": 598
    },
    "id": "ANO-AcCKVAY2",
    "outputId": "d39655cf-6d75-4ef9-9722-8faf6e8ab908"
   },
   "outputs": [
    {
     "name": "stdout",
     "output_type": "stream",
     "text": [
      "                                             Address    Lot AM or PM  \\\n",
      "0  16629 Pace Camp Apt. 448\\nAlexisborough, NE 77...  46 in       PM   \n",
      "1  9374 Jasmine Spurs Suite 508\\nSouth John, TN 8...  28 rn       PM   \n",
      "2                   Unit 0065 Box 5052\\nDPO AP 27450  94 vE       PM   \n",
      "3              7780 Julia Fords\\nNew Stacy, WA 45798  36 vm       PM   \n",
      "4  23012 Munoz Drive Suite 337\\nNew Cynthia, TX 5...  20 IE       AM   \n",
      "\n",
      "                                        Browser Info  \\\n",
      "0  Opera/9.56.(X11; Linux x86_64; sl-SI) Presto/2...   \n",
      "1  Opera/8.93.(Windows 98; Win 9x 4.90; en-US) Pr...   \n",
      "2  Mozilla/5.0 (compatible; MSIE 9.0; Windows NT ...   \n",
      "3  Mozilla/5.0 (Macintosh; Intel Mac OS X 10_8_0 ...   \n",
      "4  Opera/9.58.(X11; Linux x86_64; it-IT) Presto/2...   \n",
      "\n",
      "                           Company       Credit Card CC Exp Date  \\\n",
      "0                  Martinez-Herman  6011929061123406       02/20   \n",
      "1  Fletcher, Richards and Whitaker  3337758169645356       11/18   \n",
      "2       Simpson, Williams and Pham      675957666125       08/19   \n",
      "3  Williams, Marshall and Buchanan  6011578504430710       02/24   \n",
      "4        Brown, Watson and Andrews  6011456623207998       10/25   \n",
      "\n",
      "   CC Security Code                  CC Provider  \\\n",
      "0               900                 JCB 16 digit   \n",
      "1               561                   Mastercard   \n",
      "2               699                 JCB 16 digit   \n",
      "3               384                     Discover   \n",
      "4               678  Diners Club / Carte Blanche   \n",
      "\n",
      "                            Email                                     Job  \\\n",
      "0               pdunlap@yahoo.com  Scientist, product/process development   \n",
      "1              anthony41@reed.com                       Drilling engineer   \n",
      "2  amymiller@morales-harrison.com                Customer service manager   \n",
      "3     brent16@olson-robinson.info                       Drilling engineer   \n",
      "4     christopherwright@gmail.com                             Fine artist   \n",
      "\n",
      "        IP Address Language  Purchase Price  \n",
      "0  149.146.147.205       el           98.14  \n",
      "1     15.160.41.51       fr           70.73  \n",
      "2   132.207.160.22       de            0.95  \n",
      "3     30.250.74.19       es           78.04  \n",
      "4     24.140.33.94       es           77.82  \n"
     ]
    }
   ],
   "source": [
    "# Cargar datos\n",
    "URL_data = 'https://raw.githubusercontent.com/MatinMasimli/DataScience_ML_Udemy_Exercises/master/Ecommerce_purchases/Ecommerce%20Purchases.csv'\n",
    "df = pd.read_csv(URL_data)\n",
    "\n",
    "# Mostrar las cinco primeras filas\n",
    "print(df.head())"
   ]
  },
  {
   "cell_type": "markdown",
   "metadata": {
    "id": "qetK5ezdVAY3"
   },
   "source": [
    "¿Qué dimensiones tienen nuestros datos?"
   ]
  },
  {
   "cell_type": "code",
   "execution_count": 14,
   "metadata": {
    "id": "-HTKOrXAVAY3"
   },
   "outputs": [
    {
     "data": {
      "text/plain": [
       "(10000, 14)"
      ]
     },
     "execution_count": 14,
     "metadata": {},
     "output_type": "execute_result"
    }
   ],
   "source": [
    "df.shape"
   ]
  },
  {
   "cell_type": "markdown",
   "metadata": {
    "id": "JUEPBOPaKQPe"
   },
   "source": [
    "*Respuesta esperada:*\n",
    "\n",
    "```python\n",
    "(10000,14)\n",
    "```"
   ]
  },
  {
   "cell_type": "markdown",
   "metadata": {
    "id": "23MC1s2QVAY3"
   },
   "source": [
    "¿Cuál es el precio medio de compra?"
   ]
  },
  {
   "cell_type": "code",
   "execution_count": 15,
   "metadata": {
    "id": "Ou37EiBCVAY3"
   },
   "outputs": [
    {
     "name": "stdout",
     "output_type": "stream",
     "text": [
      "50.347302\n"
     ]
    }
   ],
   "source": [
    "print(df['Purchase Price'].mean())"
   ]
  },
  {
   "cell_type": "markdown",
   "metadata": {
    "id": "5V4lqeLTKs7h"
   },
   "source": [
    "*Respuesta esperada:*\n",
    "\n",
    "```python\n",
    "50.34730200000025\n",
    "```"
   ]
  },
  {
   "cell_type": "markdown",
   "metadata": {
    "id": "LoqjGOpbVAY4"
   },
   "source": [
    "Cuáles fueron, respectivamente, los precios mayores y menores de compra?"
   ]
  },
  {
   "cell_type": "code",
   "execution_count": 16,
   "metadata": {
    "id": "5hjtMq8MVAY4"
   },
   "outputs": [
    {
     "name": "stdout",
     "output_type": "stream",
     "text": [
      "99.99\n",
      "0.0\n"
     ]
    }
   ],
   "source": [
    "print(df['Purchase Price'].max())\n",
    "print(df['Purchase Price'].min())"
   ]
  },
  {
   "cell_type": "markdown",
   "metadata": {
    "id": "CKgz81L2Kyq0"
   },
   "source": [
    "*Respuesta esperada:*\n",
    "\n",
    "```python\n",
    "99.989999999999995\n",
    "```"
   ]
  },
  {
   "cell_type": "markdown",
   "metadata": {
    "id": "CoVYKONoK3Li"
   },
   "source": [
    "*Respuesta esperada:*\n",
    "\n",
    "```python\n",
    "0.0\n",
    "```"
   ]
  },
  {
   "cell_type": "markdown",
   "metadata": {
    "id": "3-I-kTquVAY4"
   },
   "source": [
    "¿Cuánta gente tiene indicado como inglés (valor 'en') el idioma preferente?"
   ]
  },
  {
   "cell_type": "code",
   "execution_count": 17,
   "metadata": {
    "id": "0wuXRPPSVAY4"
   },
   "outputs": [
    {
     "name": "stdout",
     "output_type": "stream",
     "text": [
      "1098\n"
     ]
    }
   ],
   "source": [
    "print(df[df['Language'] == 'en'].shape[0])"
   ]
  },
  {
   "cell_type": "markdown",
   "metadata": {
    "id": "IrcAe7Q1K46x"
   },
   "source": [
    "*Respuesta esperada:*\n",
    "\n",
    "```python\n",
    "1098\n",
    "```"
   ]
  },
  {
   "cell_type": "markdown",
   "metadata": {
    "id": "b5rZ6suJVAY5"
   },
   "source": [
    "¿Cuánta gente dispone del título profesional `'Lawyer'`?\n"
   ]
  },
  {
   "cell_type": "code",
   "execution_count": 18,
   "metadata": {
    "id": "TDilcSnfVAY5"
   },
   "outputs": [
    {
     "name": "stdout",
     "output_type": "stream",
     "text": [
      "30\n"
     ]
    }
   ],
   "source": [
    "print(df[df['Job'] == 'Lawyer'].shape[0])"
   ]
  },
  {
   "cell_type": "markdown",
   "metadata": {
    "id": "24Yd7DHdLbkw"
   },
   "source": [
    "*Respuesta esperada:*\n",
    "\n",
    "```python\n",
    "30\n",
    "```"
   ]
  },
  {
   "cell_type": "markdown",
   "metadata": {
    "id": "QWjEIPlHVAY5"
   },
   "source": [
    "¿Cuántas personas hicieron compras durante la mañana, y cuántas durante la tarde?\n",
    "\n",
    "*(Pista: Use [value_counts()](http://pandas.pydata.org/pandas-docs/stable/generated/pandas.Series.value_counts.html))*"
   ]
  },
  {
   "cell_type": "code",
   "execution_count": 19,
   "metadata": {
    "id": "IpqSmFzxVAY5"
   },
   "outputs": [
    {
     "name": "stdout",
     "output_type": "stream",
     "text": [
      "AM or PM\n",
      "PM    5068\n",
      "AM    4932\n",
      "Name: count, dtype: int64\n"
     ]
    }
   ],
   "source": [
    "print(df['AM or PM'].value_counts())"
   ]
  },
  {
   "cell_type": "markdown",
   "metadata": {
    "id": "KU2WFWcxL9yJ"
   },
   "source": [
    "*Respuesta esperada:*\n",
    "\n",
    "```python\n",
    "PM    5068\n",
    "AM    4932\n",
    "Name: AM or PM, dtype: int64\n",
    "```"
   ]
  },
  {
   "cell_type": "markdown",
   "metadata": {
    "id": "FoCaV4CTVAY6"
   },
   "source": [
    "¿Cuáles son las cinco profesiones más habituales?"
   ]
  },
  {
   "cell_type": "code",
   "execution_count": 20,
   "metadata": {
    "id": "NZX8eDGSVAY6"
   },
   "outputs": [
    {
     "name": "stdout",
     "output_type": "stream",
     "text": [
      "Job\n",
      "Interior and spatial designer    31\n",
      "Lawyer                           30\n",
      "Social researcher                28\n",
      "Purchasing manager               27\n",
      "Designer, jewellery              27\n",
      "Name: count, dtype: int64\n"
     ]
    }
   ],
   "source": [
    "print(df['Job'].value_counts().head(5))"
   ]
  },
  {
   "cell_type": "markdown",
   "metadata": {
    "id": "h5BJuCIAMS7f"
   },
   "source": [
    "*Respuesta esperada:*\n",
    "\n",
    "```python\n",
    "Interior and spatial designer    31\n",
    "Lawyer                           30\n",
    "Social researcher                28\n",
    "Purchasing manager               27\n",
    "Designer, jewellery              27\n",
    "Name: Job, dtype: int64\n",
    "```"
   ]
  },
  {
   "cell_type": "markdown",
   "metadata": {
    "id": "lNTJmlN5VAY6"
   },
   "source": [
    "Algún usuario hizo una compra que vino en el lote `90 WT`. ¿Cuál fue el precio de esa transacción?"
   ]
  },
  {
   "cell_type": "code",
   "execution_count": 21,
   "metadata": {
    "id": "q8zohcUCVAY6"
   },
   "outputs": [
    {
     "name": "stdout",
     "output_type": "stream",
     "text": [
      "513    75.1\n",
      "Name: Purchase Price, dtype: float64\n"
     ]
    }
   ],
   "source": [
    "print(df[df['Lot'] == '90 WT']['Purchase Price'])"
   ]
  },
  {
   "cell_type": "markdown",
   "metadata": {
    "id": "EnGxdBXfMg_x"
   },
   "source": [
    "*Respuesta esperada:*\n",
    "\n",
    "```python\n",
    "513    75.1\n",
    "Name: Purchase Price, dtype: float64\n",
    "```"
   ]
  },
  {
   "cell_type": "markdown",
   "metadata": {
    "id": "OqVXzQaPVAY6"
   },
   "source": [
    "¿Cuál es el email de la persona con tarjeta de crédito `4926535242672853`?"
   ]
  },
  {
   "cell_type": "code",
   "execution_count": 22,
   "metadata": {
    "id": "6lS-8pkLVAY7"
   },
   "outputs": [
    {
     "name": "stdout",
     "output_type": "stream",
     "text": [
      "1234    bondellen@williams-garza.com\n",
      "Name: Email, dtype: object\n"
     ]
    }
   ],
   "source": [
    "print(df[df['Credit Card'] == 4926535242672853]['Email'])"
   ]
  },
  {
   "cell_type": "markdown",
   "metadata": {
    "id": "DTbmy8LoNDtA"
   },
   "source": [
    "*Respuesta esperada:*\n",
    "\n",
    "```python\n",
    "1234    bondellen@williams-garza.com\n",
    "Name: Email, dtype: object\n",
    "```"
   ]
  },
  {
   "cell_type": "markdown",
   "metadata": {
    "id": "7kGE_EAiVAY7"
   },
   "source": [
    "¿Cuánta gente tiene `American Express` como proveedor de crédito e hizo una compra superior a `$95`?"
   ]
  },
  {
   "cell_type": "code",
   "execution_count": 23,
   "metadata": {
    "id": "HzGxDCPiVAY7"
   },
   "outputs": [
    {
     "name": "stdout",
     "output_type": "stream",
     "text": [
      "39\n"
     ]
    }
   ],
   "source": [
    "print(df[(df['CC Provider'] == 'American Express') & (df['Purchase Price'] > 95)].shape[0])"
   ]
  },
  {
   "cell_type": "markdown",
   "metadata": {
    "id": "Osvq_9TCNQlE"
   },
   "source": [
    "*Respuesta esperada:*\n",
    "\n",
    "```python\n",
    "39\n",
    "```"
   ]
  },
  {
   "cell_type": "markdown",
   "metadata": {
    "id": "B3SY6BazVAY7"
   },
   "source": [
    "¿Cuánta gente tiene una tarjeta de crédito que expira en 2025?"
   ]
  },
  {
   "cell_type": "code",
   "execution_count": 24,
   "metadata": {
    "id": "luraL4edVAY7"
   },
   "outputs": [
    {
     "name": "stdout",
     "output_type": "stream",
     "text": [
      "1033\n"
     ]
    }
   ],
   "source": [
    "print(df[df['CC Exp Date'].apply(lambda x: x.split('/')[1] == '25')].shape[0])"
   ]
  },
  {
   "cell_type": "markdown",
   "metadata": {
    "id": "NkspX0B2N6vo"
   },
   "source": [
    "*Respuesta esperada:*\n",
    "\n",
    "```python\n",
    "1033\n",
    "```"
   ]
  },
  {
   "cell_type": "markdown",
   "metadata": {
    "id": "p7LMvBWTVAY7"
   },
   "source": [
    "¿Cuáles fueron los cinco *email hosts* más populares (e.g., gmail, yahoo,...)?"
   ]
  },
  {
   "cell_type": "code",
   "execution_count": 25,
   "metadata": {
    "id": "MwFyhDJwVAY8"
   },
   "outputs": [
    {
     "name": "stdout",
     "output_type": "stream",
     "text": [
      "Email\n",
      "hotmail.com     1638\n",
      "yahoo.com       1616\n",
      "gmail.com       1605\n",
      "smith.com         42\n",
      "williams.com      37\n",
      "Name: count, dtype: int64\n"
     ]
    }
   ],
   "source": [
    "print(df['Email'].apply(lambda x: x.split('@')[1]).value_counts().head(5))"
   ]
  },
  {
   "cell_type": "markdown",
   "metadata": {
    "id": "wNNgUnLsOIvk"
   },
   "source": [
    "*Respuesta esperada:*\n",
    "\n",
    "```python\n",
    "hotmail.com     1638\n",
    "yahoo.com       1616\n",
    "gmail.com       1605\n",
    "smith.com         42\n",
    "williams.com      37\n",
    "Name: Email, dtype: int64\n",
    "```"
   ]
  }
 ],
 "metadata": {
  "colab": {
   "collapsed_sections": [],
   "name": "Introducción_a_Pandas_(Ejercicios).ipynb",
   "provenance": []
  },
  "kernelspec": {
   "display_name": "Python 3",
   "language": "python",
   "name": "python3"
  },
  "language_info": {
   "codemirror_mode": {
    "name": "ipython",
    "version": 3
   },
   "file_extension": ".py",
   "mimetype": "text/x-python",
   "name": "python",
   "nbconvert_exporter": "python",
   "pygments_lexer": "ipython3",
   "version": "3.10.11"
  }
 },
 "nbformat": 4,
 "nbformat_minor": 0
}
