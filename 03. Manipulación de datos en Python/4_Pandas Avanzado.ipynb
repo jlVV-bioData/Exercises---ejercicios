{
 "cells": [
  {
   "cell_type": "markdown",
   "metadata": {
    "id": "fccOfmY7hhDp"
   },
   "source": [
    "## 1 - Importa el paquete con el nombre \"pd\".\n",
    "\n",
    "`pista: import … as …`\n",
    "```python\n",
    "# [EJEMPLO]\n",
    "# -- CODIGO --\n",
    "import pandas as pd\n",
    "```"
   ]
  },
  {
   "cell_type": "code",
   "execution_count": 1,
   "metadata": {
    "id": "4FKbSkcChs-2"
   },
   "outputs": [],
   "source": [
    "import pandas as pd"
   ]
  },
  {
   "cell_type": "markdown",
   "metadata": {
    "id": "kxch5852hvVp"
   },
   "source": [
    "## 2 - Imprime la versión instalada.\n",
    "\n",
    "`pista: __version__ `\n",
    "```python\n",
    "# [EJEMPLO]\n",
    "# -- CODIGO --\n",
    "print(pd.__version__)\n",
    "```"
   ]
  },
  {
   "cell_type": "code",
   "execution_count": 2,
   "metadata": {
    "colab": {
     "base_uri": "https://localhost:8080/"
    },
    "executionInfo": {
     "elapsed": 3,
     "status": "ok",
     "timestamp": 1652767003820,
     "user": {
      "displayName": "Jose Antonio Lagares Rodriguez",
      "userId": "00469018537825658051"
     },
     "user_tz": -120
    },
    "id": "7sx3RNCBlv5h",
    "outputId": "e0907f72-0be1-44ff-c349-964a9d2d49a0"
   },
   "outputs": [
    {
     "name": "stdout",
     "output_type": "stream",
     "text": [
      "2.2.3\n"
     ]
    }
   ],
   "source": [
    "print(pd.__version__)\n"
   ]
  },
  {
   "cell_type": "markdown",
   "metadata": {
    "id": "SjtrreDMl1LY"
   },
   "source": [
    "## 3 - Cree una serie desde un diccionario, desde una lista y desde un `numpy` array. \n",
    "\n",
    "`pista: pd.Series(...) `\n",
    "```python\n",
    "# [EJEMPLO]\n",
    "# -- CODIGO --\n",
    "import numpy as np\n",
    "# Entrada:\n",
    "mi_lista = list('abcedfghijklmnopqrstuvwxyz')\n",
    "np_array = np.arange(26)\n",
    "diccionario = dict(zip(mi_lista, np_array))\n",
    "\n",
    "# Salida:\n",
    "ser1 = pd.Series(mi_lista)\n",
    "ser2 = pd.Series(np_array)\n",
    "ser3 = pd.Series(diccionario)\n",
    "print(ser3.head())\n",
    "\n",
    "# -- RESULTADO --\n",
    "a    0\n",
    "b    1\n",
    "c    2\n",
    "e    3\n",
    "d    4\n",
    "dtype: int64\n",
    "```"
   ]
  },
  {
   "cell_type": "code",
   "execution_count": 3,
   "metadata": {},
   "outputs": [
    {
     "name": "stdout",
     "output_type": "stream",
     "text": [
      "a    0\n",
      "b    1\n",
      "c    2\n",
      "d    3\n",
      "e    4\n",
      "dtype: int32\n"
     ]
    }
   ],
   "source": [
    "import numpy as np\n",
    "import pandas as pd\n",
    "\n",
    "# Entrada:\n",
    "mi_lista = list('abcdefghijklmnopqrstuvwxyz')\n",
    "np_array = np.arange(26)\n",
    "diccionario = {letra: num for letra, num in zip(mi_lista, np_array)}\n",
    "\n",
    "# Salida:\n",
    "serie1 = pd.Series(mi_lista)\n",
    "serie2 = pd.Series(np_array)\n",
    "serie3 = pd.Series(diccionario)\n",
    "print(serie3.head())\n"
   ]
  },
  {
   "cell_type": "markdown",
   "metadata": {
    "id": "g9OjBFDACJZJ"
   },
   "source": [
    "## 4 - Convierta el índice de una serie a una columna de un `dataframe`\n",
    "`pista:  to_frame() y reset_index()`\n",
    "```python\n",
    "# [EJEMPLO]\n",
    "# -- CODIGO --\n",
    "# Entrada:\n",
    "mi_lista = list('abcdefghijklmnopqrstuvwxyz')\n",
    "np_array = np.arange(26)\n",
    "diccionario = {letra: num for letra, num in zip(mi_lista, np_array)}\n",
    "\n",
    "# Salida:\n",
    "serie = pd.Series(diccionario)\n",
    "df = serie.to_frame().reset_index()\n",
    "print(df.head())\n",
    "\n",
    "# -- RESULTADO --\n",
    "    index  0\n",
    "0     a  0\n",
    "1     b  1\n",
    "2     c  2\n",
    "3     d  3\n",
    "4     e  4\n",
    "```"
   ]
  },
  {
   "cell_type": "code",
   "execution_count": 4,
   "metadata": {},
   "outputs": [
    {
     "name": "stdout",
     "output_type": "stream",
     "text": [
      "  index  0\n",
      "0     a  0\n",
      "1     b  1\n",
      "2     c  2\n",
      "3     d  3\n",
      "4     e  4\n"
     ]
    }
   ],
   "source": [
    "# Entrada:\n",
    "mi_lista = list('abcdefghijklmnopqrstuvwxyz')\n",
    "np_array = np.arange(26)\n",
    "diccionario = {indice: num for indice, num in zip(mi_lista, np_array)}\n",
    "serie = pd.Series(diccionario)\n",
    "\n",
    "# Salida\n",
    "df = serie.to_frame().reset_index()\n",
    "print(df.head())"
   ]
  },
  {
   "cell_type": "code",
   "execution_count": 5,
   "metadata": {},
   "outputs": [
    {
     "name": "stdout",
     "output_type": "stream",
     "text": [
      "  indice  numero\n",
      "0      a       0\n",
      "1      b       1\n",
      "2      c       2\n",
      "3      d       3\n",
      "4      e       4\n"
     ]
    }
   ],
   "source": [
    "# Salida\n",
    "df = serie.to_frame().reset_index().rename(columns={'index': 'indice', 0: 'numero'})\n",
    "print(df.head())"
   ]
  },
  {
   "cell_type": "markdown",
   "metadata": {
    "id": "vX0yqjPKDcIJ"
   },
   "source": [
    "## 5 - Combine varias series para formar un `dataframe`\n",
    "`pista:  concat(...) o Dataframe(...)`\n",
    "```python\n",
    "# [EJEMPLO]\n",
    "# -- CODIGO --\n",
    "# Entrada:\n",
    "serie1 = pd.Series(list('abcdefghijklmnopqrstuvwxyz'))\n",
    "serie2 = pd.Series(np.arange(26))\n",
    "\n",
    "# Solución 1:\n",
    "df1 = pd.concat([serie1, serie2], axis=1)\n",
    "\n",
    "# Solución 2:\n",
    "df2 = pd.DataFrame({'Col1': serie1, 'Col2': serie2})\n",
    "print(df1.head())\n",
    "print(df2.head())\n",
    "\n",
    "# -- RESULTADO --\n",
    "    0  1\n",
    "0  a  0\n",
    "1  b  1\n",
    "2  c  2\n",
    "3  d  3\n",
    "4  e  4\n",
    "\n",
    "    Col1  Col2\n",
    "0    a     0\n",
    "1    b     1\n",
    "2    c     2\n",
    "3    d     3\n",
    "4    e     4\n",
    "```"
   ]
  },
  {
   "cell_type": "code",
   "execution_count": 6,
   "metadata": {},
   "outputs": [
    {
     "name": "stdout",
     "output_type": "stream",
     "text": [
      "   0  1\n",
      "0  a  0\n",
      "1  b  1\n",
      "2  c  2\n",
      "3  d  3\n",
      "4  e  4\n",
      "  Col1  Col2\n",
      "0    a     0\n",
      "1    b     1\n",
      "2    c     2\n",
      "3    d     3\n",
      "4    e     4\n"
     ]
    }
   ],
   "source": [
    "# Entrada:\n",
    "serie1 = pd.Series(list('abcdefghijklmnopqrstuvwxyz'))\n",
    "serie2 = pd.Series(np.arange(26))\n",
    "\n",
    "# Solución 1:\n",
    "df1 = pd.concat([serie1, serie2], axis=1)\n",
    "\n",
    "# Solución 2:\n",
    "df2 = pd.DataFrame({'Col1': serie1, 'Col2': serie2})\n",
    "print(df1.head())\n",
    "print(df2.head())"
   ]
  },
  {
   "cell_type": "markdown",
   "metadata": {
    "id": "JdfmN01ND6vg"
   },
   "source": [
    "## 6 - Obtenga los items de la serie A no presentes en la serie B\n",
    "`pista: ~ y isin(...)`\n",
    "```python\n",
    "# [EJEMPLO]\n",
    "# -- CODIGO --\n",
    "# Entrada\n",
    "ser1 = pd.Series([1, 2, 3, 4, 5])\n",
    "ser2 = pd.Series([4, 5, 6, 7, 8])\n",
    "\n",
    "# Solución\n",
    "ser1[~ser1.isin(ser2)]\n",
    "\n",
    "# -- RESULTADO --\n",
    "0    1\n",
    "1    2\n",
    "2    3\n",
    "dtype: int64\n",
    "```"
   ]
  },
  {
   "cell_type": "code",
   "execution_count": 7,
   "metadata": {},
   "outputs": [
    {
     "name": "stdout",
     "output_type": "stream",
     "text": [
      "0    1\n",
      "1    2\n",
      "2    3\n",
      "dtype: int64\n"
     ]
    }
   ],
   "source": [
    "# Entrada:\n",
    "serieA = pd.Series([1, 2, 3, 4, 5])\n",
    "serieB = pd.Series([4, 5, 6, 7, 8])\n",
    "\n",
    "# Solución:\n",
    "resultado = serieA[~serieA.isin(serieB)]\n",
    "print(resultado)"
   ]
  },
  {
   "cell_type": "markdown",
   "metadata": {
    "id": "Ty5yJPsIEO8p"
   },
   "source": [
    "## 7 - Obtenga la unión e intersección de dos series A y B.\n",
    "`pista: union1d(...) y intersect1d(...) `\n",
    "```python\n",
    "# [EJEMPLO]\n",
    "# -- CODIGO --\n",
    "# Entrada\n",
    "ser1 = pd.Series([1, 2, 3, 4, 5])\n",
    "ser2 = pd.Series([4, 5, 6, 7, 8])\n",
    "\n",
    "# Solución\n",
    "union = pd.Series(np.union1d(ser1, ser2))\n",
    "interseccion = pd.Series(np.intersect1d(ser1, ser2))\n",
    "\n",
    "union\n",
    "interseccion\n",
    "\n",
    "# -- RESULTADO --\n",
    "0    4\n",
    "1    5\n",
    "dtype: int64\n",
    "```"
   ]
  },
  {
   "cell_type": "code",
   "execution_count": 8,
   "metadata": {},
   "outputs": [
    {
     "name": "stdout",
     "output_type": "stream",
     "text": [
      "Unión: 0    1\n",
      "1    2\n",
      "2    3\n",
      "3    4\n",
      "4    5\n",
      "5    6\n",
      "6    7\n",
      "7    8\n",
      "dtype: int64\n",
      "Intersección: 0    4\n",
      "1    5\n",
      "dtype: int64\n"
     ]
    },
    {
     "data": {
      "text/plain": [
       "0    4\n",
       "1    5\n",
       "dtype: int64"
      ]
     },
     "execution_count": 8,
     "metadata": {},
     "output_type": "execute_result"
    }
   ],
   "source": [
    "# Entrada:\n",
    "serieA = pd.Series([1, 2, 3, 4, 5])\n",
    "serieB = pd.Series([4, 5, 6, 7, 8])\n",
    "\n",
    "# Solución:\n",
    "union = pd.Series(np.union1d(serieA, serieB))\n",
    "interseccion = pd.Series(np.intersect1d(serieA, serieB))\n",
    "\n",
    "\n",
    "print(\"Unión:\", union)\n",
    "print(\"Intersección:\", interseccion)\n",
    "\n",
    "union\n",
    "interseccion\n"
   ]
  },
  {
   "cell_type": "markdown",
   "metadata": {
    "id": "8BY76KjLEvjY"
   },
   "source": [
    "## 8 - Obtenga el valor mínimo, el percentil 25, la mediana, el percentil 75 y el máximo de una serie\n",
    "`pista: percentile(...)`\n",
    "```python\n",
    "# [EJEMPLO]\n",
    "# -- CODIGO --\n",
    "# Entrada\n",
    "serie_ejemplo = np.random.RandomState(100)\n",
    "serie_ejemplo = pd.Series(serie_ejemplo.normal(10, 5, 25))\n",
    "\n",
    "# Solución\n",
    "percentiles = np.percentile(serie_ejemplo, q=[0, 25, 50, 75, 100])\n",
    "percentiles\n",
    "\n",
    "# -- RESULTADO --\n",
    "array([ 1.25117263,  7.70986507, 10.92259345, 13.36360403, 18.0949083 ])\n",
    "```\n"
   ]
  },
  {
   "cell_type": "code",
   "execution_count": 9,
   "metadata": {},
   "outputs": [
    {
     "name": "stdout",
     "output_type": "stream",
     "text": [
      "[ 3.41492204  6.83433262  9.7863749  13.53521315 21.46337805]\n"
     ]
    }
   ],
   "source": [
    "# Entrada:\n",
    "serie = np.random.RandomState(100)\n",
    "serie = pd.Series(np.random.normal(10, 5, 25))\n",
    "\n",
    "# Solución:\n",
    "percentiles = np.percentile(serie, q=[0, 25, 50, 75, 100])\n",
    "print(percentiles)"
   ]
  },
  {
   "cell_type": "markdown",
   "metadata": {
    "id": "uTg0Cd-YFXgZ"
   },
   "source": [
    "## 9 - Obtenga la frecuencia de aparición de los elementos de una lista.\n",
    "\n",
    "`pista: value_counts()`\n",
    "```python\n",
    "# [EJEMPLO]\n",
    "# -- CODIGO --\n",
    "# Entrada\n",
    "serie = pd.Series(np.take(list('abcdefghijklmnoprstuvwxyz'), np.random.randint(8, size=30)))\n",
    "\n",
    "# Solución\n",
    "serie.value_counts()\n",
    "\n",
    "# -- RESULTADO --\n",
    "b    5\n",
    "c    5\n",
    "d    4\n",
    "e    4\n",
    "g    4\n",
    "h    3\n",
    "a    3\n",
    "f    2\n",
    "dtype: int64\n",
    "```"
   ]
  },
  {
   "cell_type": "code",
   "execution_count": 10,
   "metadata": {},
   "outputs": [
    {
     "name": "stdout",
     "output_type": "stream",
     "text": [
      "r    3\n",
      "f    3\n",
      "x    2\n",
      "s    2\n",
      "k    2\n",
      "u    2\n",
      "g    2\n",
      "j    2\n",
      "n    2\n",
      "v    1\n",
      "m    1\n",
      "l    1\n",
      "w    1\n",
      "c    1\n",
      "i    1\n",
      "d    1\n",
      "t    1\n",
      "p    1\n",
      "z    1\n",
      "Name: count, dtype: int64\n"
     ]
    }
   ],
   "source": [
    "# Entrada:\n",
    "serie = pd.Series(np.random.choice(list('abcdefghijklmnoprstuvwxyz'), 30))\n",
    "\n",
    "# Solución:\n",
    "frecuencia = serie.value_counts()\n",
    "print(frecuencia)"
   ]
  },
  {
   "cell_type": "markdown",
   "metadata": {
    "id": "fSQV8Rq3GSvo"
   },
   "source": [
    "## 10 - Mantenga de una lista los 3 términos que más aparecen. Renombre el resto de elementos a \"otros\".\n",
    "`pista: isin(...)`\n",
    "\n",
    "```python\n",
    "# [EJEMPLO]\n",
    "# -- CODIGO --\n",
    "# Entrada\n",
    "np.random.RandomState(100)\n",
    "ser = pd.Series(np.random.randint(1, 5, [12]))\n",
    "\n",
    "# Solución\n",
    "print(\"Top 3:\", ser.value_counts())\n",
    "ser[~ser.isin(ser.value_counts().index[:3])] = 'Otros'\n",
    "ser\n",
    "\n",
    "# -- RESULTADO --\n",
    "Top 3: 3    4\n",
    "2    3\n",
    "1    3\n",
    "4    2\n",
    "dtype: int64\n",
    "\n",
    "0         2\n",
    "1         2\n",
    "2         2\n",
    "3         1\n",
    "4         3\n",
    "5         3\n",
    "6     Otros\n",
    "7     Otros\n",
    "8         1\n",
    "9         3\n",
    "10        3\n",
    "11        1\n",
    "dtype: object\n",
    "\n",
    "```\n"
   ]
  },
  {
   "cell_type": "code",
   "execution_count": 11,
   "metadata": {},
   "outputs": [
    {
     "name": "stdout",
     "output_type": "stream",
     "text": [
      "0     Otros\n",
      "1         2\n",
      "2         2\n",
      "3         3\n",
      "4         4\n",
      "5         4\n",
      "6         4\n",
      "7         2\n",
      "8         2\n",
      "9         3\n",
      "10        3\n",
      "11        3\n",
      "dtype: object\n"
     ]
    },
    {
     "name": "stderr",
     "output_type": "stream",
     "text": [
      "C:\\Users\\eljl2\\AppData\\Local\\Temp\\ipykernel_17784\\367459477.py:6: FutureWarning: Setting an item of incompatible dtype is deprecated and will raise an error in a future version of pandas. Value 'Otros' has dtype incompatible with int32, please explicitly cast to a compatible dtype first.\n",
      "  serie[~serie.isin(top3)] = 'Otros'\n"
     ]
    }
   ],
   "source": [
    "# Entrada:\n",
    "serie = pd.Series(np.random.randint(1, 5, [12]))\n",
    "\n",
    "# Solución:\n",
    "top3 = serie.value_counts().index[:3]\n",
    "serie[~serie.isin(top3)] = 'Otros'\n",
    "print(serie)\n"
   ]
  },
  {
   "cell_type": "markdown",
   "metadata": {
    "id": "nqbwIEVlGzkQ"
   },
   "source": [
    "## 11 - Convierta una serie en un `dataframe` con 5 filas y 3 columnas.\n",
    "`pista: reshape(filas, columnas) `\n",
    "```python\n",
    "# [EJEMPLO]\n",
    "# -- CODIGO --\n",
    "# Entrada\n",
    "ser = pd.Series(np.random.randint(1, 10, 15))\n",
    "\n",
    "# Solucion\n",
    "df = pd.DataFrame(ser.values.reshape(5,3))\n",
    "print(df)\n",
    "\n",
    "# -- RESULTADO --\n",
    "0  1  2\n",
    "0  6  4  5\n",
    "1  6  6  6\n",
    "2  3  8  8\n",
    "3  1  5  2\n",
    "4  9  8  6"
   ]
  },
  {
   "cell_type": "code",
   "execution_count": 12,
   "metadata": {
    "colab": {
     "base_uri": "https://localhost:8080/"
    },
    "executionInfo": {
     "elapsed": 214,
     "status": "ok",
     "timestamp": 1652977078917,
     "user": {
      "displayName": "Jose Antonio Lagares Rodriguez",
      "userId": "00469018537825658051"
     },
     "user_tz": -120
    },
    "id": "QEURuJS4HDz_",
    "outputId": "a6f6fc71-40f9-45a2-8ef8-ea0f9d92fe27"
   },
   "outputs": [
    {
     "name": "stdout",
     "output_type": "stream",
     "text": [
      "   0  1  2\n",
      "0  5  7  8\n",
      "1  6  3  5\n",
      "2  9  8  6\n",
      "3  7  8  7\n",
      "4  3  1  8\n"
     ]
    }
   ],
   "source": [
    "# Entrada\n",
    "ser = pd.Series(np.random.randint(1, 10, 15))\n",
    "\n",
    "# Solucion\n",
    "df = pd.DataFrame(ser.values.reshape(5,3))\n",
    "print(df)"
   ]
  },
  {
   "cell_type": "markdown",
   "metadata": {
    "id": "QOjpQDvrHNsA"
   },
   "source": [
    "## 12 - Extraer las de una serie dado una lista de posiciones.\n",
    "`pista: take(...)`\n",
    "```python\n",
    "# [EJEMPLO]\n",
    "# -- CODIGO --\n",
    "# Entrada\n",
    "ser = pd.Series(list('abcdefghijklmnopqrstuvwxyz'))\n",
    "pos = [0, 1, 2, 25, 3]\n",
    "\n",
    "# Solution\n",
    "ser.take(pos)\n",
    "\n",
    "# -- RESULTADO --\n",
    "0     a\n",
    "1     b\n",
    "2     c\n",
    "25    z\n",
    "3     d\n",
    "dtype: object\n",
    "```"
   ]
  },
  {
   "cell_type": "code",
   "execution_count": 13,
   "metadata": {
    "colab": {
     "base_uri": "https://localhost:8080/"
    },
    "executionInfo": {
     "elapsed": 238,
     "status": "ok",
     "timestamp": 1652977357147,
     "user": {
      "displayName": "Jose Antonio Lagares Rodriguez",
      "userId": "00469018537825658051"
     },
     "user_tz": -120
    },
    "id": "kYOj55itHV_w",
    "outputId": "3aaa89e9-a035-411a-dc6f-40491ed31571"
   },
   "outputs": [
    {
     "name": "stdout",
     "output_type": "stream",
     "text": [
      "0     a\n",
      "1     b\n",
      "2     c\n",
      "25    z\n",
      "3     d\n",
      "dtype: object\n"
     ]
    }
   ],
   "source": [
    "# Entrada:\n",
    "serie = pd.Series(list('abcdefghijklmnopqrstuvwxyz'))\n",
    "posiciones = [0, 1, 2, 25, 3]\n",
    "\n",
    "# Solución:\n",
    "resultado = serie.take(posiciones)\n",
    "print(resultado)"
   ]
  },
  {
   "cell_type": "markdown",
   "metadata": {
    "id": "kYMHM1hxKIuP"
   },
   "source": [
    "## 13 - Obtener la posición de los items de la serie A en otra serie B.\n",
    "\n",
    "`pista: where(...)`\n",
    "```python\n",
    "# [EJEMPLO]\n",
    "# -- CODIGO --\n",
    "# Entrada\n",
    "ser1 = pd.Series([10, 9, 6, 5, 3, 1, 12, 8, 13])\n",
    "ser2 = pd.Series([1, 3, 10, 13])\n",
    "\n",
    "# Solución 1\n",
    "[np.where(i == ser1)[0].tolist()[0] for i in ser2]\n",
    "\n",
    "# Solución 2\n",
    "[pd.Index(ser1).get_loc(i) for i in ser2]\n",
    "\n",
    "# -- RESULTADO --\n",
    "[5, 4, 0, 8]\n",
    "```"
   ]
  },
  {
   "cell_type": "code",
   "execution_count": 14,
   "metadata": {
    "colab": {
     "base_uri": "https://localhost:8080/"
    },
    "executionInfo": {
     "elapsed": 228,
     "status": "ok",
     "timestamp": 1652977980908,
     "user": {
      "displayName": "Jose Antonio Lagares Rodriguez",
      "userId": "00469018537825658051"
     },
     "user_tz": -120
    },
    "id": "8w53UEPWKiKf",
    "outputId": "2b0c9197-4036-4f78-e70e-0db53c30c7be"
   },
   "outputs": [
    {
     "name": "stdout",
     "output_type": "stream",
     "text": [
      "Posiciones (solución 1): [5, 4, 0, 8]\n",
      "Posiciones (solución 2): [5, 4, 0, 8]\n"
     ]
    }
   ],
   "source": [
    "# Entrada:\n",
    "serieA = pd.Series([10, 9, 6, 5, 3, 1, 12, 8, 13])\n",
    "serieB = pd.Series([1, 3, 10, 13])\n",
    "\n",
    "# Solución 1:\n",
    "posiciones = [np.where(serieA == i)[0][0] for i in serieB]\n",
    "\n",
    "# Solución 2:\n",
    "posiciones_alt = [pd.Index(serieA).get_loc(i) for i in serieB]\n",
    "\n",
    "print(\"Posiciones (solución 1):\", posiciones)\n",
    "print(\"Posiciones (solución 2):\", posiciones_alt)\n"
   ]
  },
  {
   "cell_type": "markdown",
   "metadata": {
    "id": "soGUeNe9K0H3"
   },
   "source": [
    "### 14 - Calcule el Error Cuadrático Medio (SME en inglés) de dadas dos series.\n",
    "`pista: mean(...)`\n",
    "```python\n",
    "# [EJEMPLO]\n",
    "# -- CORDIGO --\n",
    "# Entrada\n",
    "verdad = pd.Series(range(10))\n",
    "prediccion = pd.Series(range(10)) + np.random.random(10)\n",
    "\n",
    "# Solución\n",
    "np.mean((verdad-prediccion)**2)\n",
    "\n",
    "# -- RESULTADO --\n",
    "0.2552852691437278\n",
    "```"
   ]
  },
  {
   "cell_type": "code",
   "execution_count": 15,
   "metadata": {
    "colab": {
     "base_uri": "https://localhost:8080/"
    },
    "executionInfo": {
     "elapsed": 219,
     "status": "ok",
     "timestamp": 1652978118064,
     "user": {
      "displayName": "Jose Antonio Lagares Rodriguez",
      "userId": "00469018537825658051"
     },
     "user_tz": -120
    },
    "id": "El1Rhy9aLBb3",
    "outputId": "e0c65728-28a9-42e0-d7a2-bc9d27306c98"
   },
   "outputs": [
    {
     "name": "stdout",
     "output_type": "stream",
     "text": [
      "MSE: 0.4089582635619543\n"
     ]
    }
   ],
   "source": [
    "# Entrada:\n",
    "verdad = pd.Series(range(10))\n",
    "prediccion = pd.Series(range(10)) + np.random.random(10)\n",
    "\n",
    "# Solución:\n",
    "mse = np.mean((verdad - prediccion)**2)\n",
    "print(\"MSE:\", mse)\n"
   ]
  },
  {
   "cell_type": "markdown",
   "metadata": {
    "id": "x399L8D3LJgX"
   },
   "source": [
    " ## 15 - Convertir el primer caracter de una serie en mayuúscula.\n",
    "\n",
    "`pista: title()`\n",
    "```python\n",
    "# [EJEMPLO]\n",
    "# -- CODIGO --\n",
    "# Entrada\n",
    "ser = pd.Series(['hola', 'me', 'llamo', 'Antonio'])\n",
    "\n",
    "#Solución\n",
    "pd.Series([i.title() for i in ser])\n",
    "\n",
    "# -- RESULTADO --\n",
    "0       Hola\n",
    "1         Me\n",
    "2      Llamo\n",
    "3    Antonio\n",
    "dtype: object\n",
    "```"
   ]
  },
  {
   "cell_type": "code",
   "execution_count": 16,
   "metadata": {
    "colab": {
     "base_uri": "https://localhost:8080/"
    },
    "executionInfo": {
     "elapsed": 219,
     "status": "ok",
     "timestamp": 1652978220332,
     "user": {
      "displayName": "Jose Antonio Lagares Rodriguez",
      "userId": "00469018537825658051"
     },
     "user_tz": -120
    },
    "id": "KZlQ6kF4LXfW",
    "outputId": "2bd3c000-25bd-4a44-9b27-31d7038d3327"
   },
   "outputs": [
    {
     "name": "stdout",
     "output_type": "stream",
     "text": [
      "0       Hola\n",
      "1         Me\n",
      "2      Llamo\n",
      "3    Antonio\n",
      "dtype: object\n"
     ]
    }
   ],
   "source": [
    "# Entrada:\n",
    "serie = pd.Series(['hola', 'me', 'llamo', 'Antonio'])\n",
    "\n",
    "# Solución:\n",
    "resultado = pd.Series([palabra.capitalize() for palabra in serie])\n",
    "print(resultado)\n"
   ]
  },
  {
   "cell_type": "markdown",
   "metadata": {
    "id": "EfqMb0R9Lh23"
   },
   "source": [
    "## 16 - Calcular el número de caracteres de cada palabra en una serie.\n",
    "\n",
    "`pista: map(...), lambda(...) y len(...)`\n",
    "```python\n",
    "# [EJEMPLO]\n",
    "# -- CODIGO --\n",
    "# Entrada\n",
    "ser = pd.Series(['hola', 'me', 'llamo', 'Antonio'])\n",
    "\n",
    "# Solucion\n",
    "ser.map(lambda x: len(x))\n",
    "\n",
    "# -- RESULTADO --\n",
    "0    4\n",
    "1    2\n",
    "2    5\n",
    "3    7\n",
    "dtype: int64\n",
    "```"
   ]
  },
  {
   "cell_type": "code",
   "execution_count": 17,
   "metadata": {
    "colab": {
     "base_uri": "https://localhost:8080/"
    },
    "executionInfo": {
     "elapsed": 241,
     "status": "ok",
     "timestamp": 1652978309902,
     "user": {
      "displayName": "Jose Antonio Lagares Rodriguez",
      "userId": "00469018537825658051"
     },
     "user_tz": -120
    },
    "id": "nntVOjLhLyCf",
    "outputId": "7ef2a54f-4f17-4f43-e666-6288b3d78f52"
   },
   "outputs": [
    {
     "name": "stdout",
     "output_type": "stream",
     "text": [
      "0    4\n",
      "1    2\n",
      "2    5\n",
      "3    7\n",
      "dtype: int64\n"
     ]
    }
   ],
   "source": [
    "# Entrada:\n",
    "serie = pd.Series(['hola', 'me', 'llamo', 'Antonio'])\n",
    "\n",
    "# Solución:\n",
    "longitud = serie.map(len)\n",
    "print(longitud)\n"
   ]
  },
  {
   "cell_type": "markdown",
   "metadata": {
    "id": "cha-gJwdL-TW"
   },
   "source": [
    "## 17 - Dada una serie de fechas escritas como cadenas, páselas a `timeseries`.\n",
    "\n",
    "`pista: to_datetime`\n",
    "\n",
    "`serie de ejemplo: ser = pd.Series(['01 Feb 2012', '02-03-2011', '20150503', '2016/04/04', '2018-05-05', '2018-06-06T12:20'])`\n",
    "```python\n",
    "# [EJEMPLO]\n",
    "# -- CODIGO --\n",
    "# Entrada\n",
    "ser = pd.Series(['01 Feb 2012', '02-03-2011', '20150503', '2016/04/04', '2018-05-05', '2018-06-06T12:20'])\n",
    "\n",
    "# Solución\n",
    "pd.to_datetime(ser)\n",
    "\n",
    "# -- RESULTADO --\n",
    "0   2012-02-01 00:00:00\n",
    "1   2011-02-03 00:00:00\n",
    "2   2015-05-03 00:00:00\n",
    "3   2016-04-04 00:00:00\n",
    "4   2018-05-05 00:00:00\n",
    "5   2018-06-06 12:20:00\n",
    "dtype: datetime64[ns]\n",
    "```"
   ]
  },
  {
   "cell_type": "code",
   "execution_count": 18,
   "metadata": {
    "colab": {
     "base_uri": "https://localhost:8080/"
    },
    "executionInfo": {
     "elapsed": 230,
     "status": "ok",
     "timestamp": 1652979913422,
     "user": {
      "displayName": "Jose Antonio Lagares Rodriguez",
      "userId": "00469018537825658051"
     },
     "user_tz": -120
    },
    "id": "oBYASTUCM_aW",
    "outputId": "b5dd01e5-0f6c-4a08-cc89-aa0260395144"
   },
   "outputs": [
    {
     "name": "stdout",
     "output_type": "stream",
     "text": [
      "0   2012-02-01 00:00:00\n",
      "1   2011-02-03 00:00:00\n",
      "2   2015-05-03 00:00:00\n",
      "3   2016-04-04 00:00:00\n",
      "4   2018-05-05 00:00:00\n",
      "5   2018-06-06 12:20:00\n",
      "dtype: datetime64[ns]\n"
     ]
    }
   ],
   "source": [
    "# Entrada:\n",
    "serie = pd.Series(['01 Feb 2012', '02-03-2011', '20150503', '2016/04/04', '2018-05-05', '2018-06-06T12:20'])\n",
    "\n",
    "# Solución:\n",
    "timeseries = pd.to_datetime(serie, format='mixed')\n",
    "print(timeseries)\n"
   ]
  },
  {
   "cell_type": "markdown",
   "metadata": {
    "id": "hMpVwc3lB5tw"
   },
   "source": [
    "## 18 - Obtenga el día del mes, el número de la semana y el día del año a partir de una serie de cadenas de fechas.\n",
    "`pista: day.tolist(), weekofyear.tolist() y dayofyear.tolist() `\n",
    "\n",
    "`serie de ejemplo: ser = pd.Series(['01 Feb 2012', '02-03-2011', '20150503', '2016/04/04', '2018-05-05', '2018-06-06T12:20'])`\n",
    "```python\n",
    "# [EJEMPLO]\n",
    "# -- CODIGO --\n",
    "# Entrada\n",
    "ser = pd.Series(['01 Feb 2012', '02-03-2011', '20150503', '2016/04/04', '2018-05-05', '2018-06-06T12:20'])\n",
    "\n",
    "# Solución\n",
    "from dateutil.parser import parse\n",
    "ser_ts = ser.map(lambda x: parse(x))\n",
    "\n",
    "# Día del mes\n",
    "print(\"Fecha: \", ser_ts.dt.day.tolist())\n",
    "# Semana number\n",
    "print(\"Número de semana: \", ser_ts.dt.weekofyear.tolist())\n",
    "# Día del año\n",
    "print(\"Día del año: \", ser_ts.dt.dayofyear.tolist())\n",
    "\n",
    "# -- RESULTADO --\n",
    "Fecha:  [1, 3, 3, 4, 5, 6]\n",
    "Número de semana:  [5, 5, 18, 14, 18, 23]\n",
    "Día del año:  [32, 34, 123, 95, 125, 157]\n",
    "/usr/local/lib/python3.7/dist-packages/ipykernel_launcher.py:12: FutureWarning: Series.dt.weekofyear and Series.dt.week have been deprecated.  Please use Series.dt.isocalendar().week instead.\n",
    "  if sys.path[0] == '':\n",
    "```"
   ]
  },
  {
   "cell_type": "code",
   "execution_count": 19,
   "metadata": {
    "colab": {
     "base_uri": "https://localhost:8080/"
    },
    "executionInfo": {
     "elapsed": 244,
     "status": "ok",
     "timestamp": 1652980166414,
     "user": {
      "displayName": "Jose Antonio Lagares Rodriguez",
      "userId": "00469018537825658051"
     },
     "user_tz": -120
    },
    "id": "1QD83x5VSag1",
    "outputId": "ae48efac-03ea-46ca-dd92-e4943ac28504"
   },
   "outputs": [
    {
     "name": "stdout",
     "output_type": "stream",
     "text": [
      "Días del mes: [1, 3, 3, 4, 5, 6]\n",
      "Número de semana: [5, 5, 18, 14, 18, 23]\n",
      "Días del año: [32, 34, 123, 95, 125, 157]\n"
     ]
    }
   ],
   "source": [
    "# Entrada:\n",
    "serie = pd.Series(['01 Feb 2012', '02-03-2011', '20150503', '2016/04/04', '2018-05-05', '2018-06-06T12:20'])\n",
    "\n",
    "# Solución:\n",
    "timeseries = pd.to_datetime(serie, format='mixed')\n",
    "dias_mes = timeseries.dt.day.tolist()\n",
    "numero_semana = timeseries.dt.isocalendar().week.tolist()\n",
    "dias_año = timeseries.dt.dayofyear.tolist()\n",
    "\n",
    "print(\"Días del mes:\", dias_mes)\n",
    "print(\"Número de semana:\", numero_semana)\n",
    "print(\"Días del año:\", dias_año)\n"
   ]
  },
  {
   "cell_type": "markdown",
   "metadata": {
    "id": "f5oJitufRGh0"
   },
   "source": [
    "## 19 - Dado una lista de \"mes año\", indique el día 15 de cada mes.\n",
    "`pista: parse(...) `\n",
    "\n",
    "`serie = pd.Series(['Jan 2018', 'Feb 2018', 'Nov 2018'])`\n",
    "```python\n",
    "# [EJEMPLO]\n",
    "# -- CODIGO --\n",
    "import pandas as pd\n",
    "\n",
    "# Entrada\n",
    "serie = pd.Series(['Jan 2010', 'Feb 2011', 'Nov 2012'])\n",
    "\n",
    "# Solución 1\n",
    "from dateutil.parser import parse\n",
    "# Parse\n",
    "ser_ts = serie.map(lambda x: parse(x))\n",
    "ser_datestr = ser_ts.dt.year.astype('str') + '-' + ser_ts.dt.month.astype('str') + '-' + '15'\n",
    "# Forateo\n",
    "[parse(i).strftime('%Y-%m-%d') for i in ser_datestr]\n",
    "\n",
    "# Solución 2\n",
    "serie.map(lambda x: parse('15 ' + x))\n",
    "\n",
    "# -- RESULTADO --\n",
    "0   2010-01-15\n",
    "1   2011-02-15\n",
    "2   2012-11-15\n",
    "dtype: datetime64[ns]\n",
    "```"
   ]
  },
  {
   "cell_type": "code",
   "execution_count": 20,
   "metadata": {
    "colab": {
     "base_uri": "https://localhost:8080/"
    },
    "executionInfo": {
     "elapsed": 3,
     "status": "ok",
     "timestamp": 1652980708025,
     "user": {
      "displayName": "Jose Antonio Lagares Rodriguez",
      "userId": "00469018537825658051"
     },
     "user_tz": -120
    },
    "id": "MImVz7VUUgok",
    "outputId": "e3eb86f1-e3fa-4269-ea20-48a34033fa94"
   },
   "outputs": [
    {
     "name": "stdout",
     "output_type": "stream",
     "text": [
      "0   2010-01-15\n",
      "1   2011-02-15\n",
      "2   2012-11-15\n",
      "dtype: datetime64[ns]\n"
     ]
    }
   ],
   "source": [
    "# Entrada:\n",
    "serie = pd.Series(['Jan 2010', 'Feb 2011', 'Nov 2012'])\n",
    "\n",
    "# Solución:\n",
    "fechas_15 = serie.map(lambda x: pd.to_datetime('15 ' + x))\n",
    "print(fechas_15)\n"
   ]
  },
  {
   "cell_type": "markdown",
   "metadata": {
    "id": "GrJNMRWhRHdx"
   },
   "source": [
    "## 20 - Filtrar emails dada una expresión regular de una serie de emails.\n",
    "`pista: match(...) `\n",
    "\n",
    "`patron ='[A-Za-z0-9._%+-]+@[A-Za-z0-9.-]+\\\\.[A-Za-z]{2,4}'`\n",
    "```python\n",
    "# [EJEMPLO]\n",
    "# -- CODIGO --\n",
    "# Entrada\n",
    "emails = pd.Series(['Compra libros en amazom.com', 'asdfageses@egydfpt.com', 'mad@t.co', 'ndfgfsra@gmail.com'])\n",
    "\n",
    "# Solución\n",
    "import re\n",
    "patron ='[A-Za-z0-9._%+-]+@[A-Za-z0-9.-]+\\\\.[A-Za-z]{2,4}'\n",
    "mascara = emails.map(lambda x: bool(re.match(patron, x)))\n",
    "emails[mascara]\n",
    "\n",
    "# -- RESULTADO --\n",
    "1    asdfageses@egydfpt.com\n",
    "2                  mad@t.co\n",
    "3        ndfgfsra@gmail.com\n",
    "dtype: object\n",
    "```"
   ]
  },
  {
   "cell_type": "code",
   "execution_count": 21,
   "metadata": {
    "colab": {
     "base_uri": "https://localhost:8080/"
    },
    "executionInfo": {
     "elapsed": 220,
     "status": "ok",
     "timestamp": 1652981195838,
     "user": {
      "displayName": "Jose Antonio Lagares Rodriguez",
      "userId": "00469018537825658051"
     },
     "user_tz": -120
    },
    "id": "2SipSsteWDvD",
    "outputId": "ad45e7af-df12-4273-c5ff-c85222ad7177"
   },
   "outputs": [
    {
     "name": "stdout",
     "output_type": "stream",
     "text": [
      "1    asdfageses@egydfpt.com\n",
      "2                  mad@t.co\n",
      "3        ndfgfsra@gmail.com\n",
      "dtype: object\n"
     ]
    }
   ],
   "source": [
    "# Entrada:\n",
    "emails = pd.Series(['Compra libros en amazom.com', 'asdfageses@egydfpt.com', 'mad@t.co', 'ndfgfsra@gmail.com'])\n",
    "\n",
    "# Solución:\n",
    "patron = '[A-Za-z0-9._%+-]+@[A-Za-z0-9.-]+\\\\.[A-Za-z]{2,4}'\n",
    "mascara = emails.str.match(patron)\n",
    "emails_filtrados = emails[mascara]\n",
    "print(emails_filtrados)\n"
   ]
  },
  {
   "cell_type": "markdown",
   "metadata": {
    "id": "dk5GimeGRIhM"
   },
   "source": [
    "## 21 - Dentro de una serie, reemplace los espacios que faltan en una cadena con el carácter menos frecuente.\n",
    "`pista:  value_counts(), dropna()`\n",
    "\n",
    "`entrada: cadena = 'dsdf eeee fsdf dfs'`\n",
    "```python\n",
    "# [EJEMPLO]\n",
    "# -- CODIGO --\n",
    "# Entrada\n",
    "cadena = 'dsdf eeee fsdf dfs'\n",
    "\n",
    "# Solucion\n",
    "ser = pd.Series(list('dbc deb abed gade'))\n",
    "freq = ser.value_counts()\n",
    "\n",
    "print(freq)\n",
    "least_freq = freq.dropna().index[-1]\n",
    "\"\".join(ser.replace(' ', least_freq))\n",
    "\n",
    "# -- RESULTADO --\n",
    "d    4\n",
    "b    3\n",
    "     3\n",
    "e    3\n",
    "a    2\n",
    "c    1\n",
    "g    1\n",
    "dtype: int64\n",
    "\n",
    "'dbcgdebgabedggade'\n",
    "```"
   ]
  },
  {
   "cell_type": "code",
   "execution_count": null,
   "metadata": {
    "colab": {
     "base_uri": "https://localhost:8080/",
     "height": 174
    },
    "executionInfo": {
     "elapsed": 8,
     "status": "ok",
     "timestamp": 1652981432766,
     "user": {
      "displayName": "Jose Antonio Lagares Rodriguez",
      "userId": "00469018537825658051"
     },
     "user_tz": -120
    },
    "id": "IK9y00XVXmjC",
    "outputId": "cde1fdfb-5b93-48e1-e929-7a4d8c3d07d3"
   },
   "outputs": [],
   "source": []
  },
  {
   "cell_type": "markdown",
   "metadata": {
    "id": "j1xkuxLXRJg0"
   },
   "source": [
    "## 22 - Lea un fichero .csv\n",
    "`pista: read_csv()`\n",
    "\n",
    "`URL: https://raw.githubusercontent.com/selva86/datasets/master/BostonHousing.csv`\n",
    "\n",
    "```python\n",
    "# [EJEMPLO]\n",
    "# -- CODIGO --\n",
    "df = pd.read_csv('https://raw.githubusercontent.com/selva86/datasets/master/BostonHousing.csv', chunksize=50)\n",
    "df\n",
    "```"
   ]
  },
  {
   "cell_type": "code",
   "execution_count": 22,
   "metadata": {
    "colab": {
     "base_uri": "https://localhost:8080/"
    },
    "executionInfo": {
     "elapsed": 246,
     "status": "ok",
     "timestamp": 1652981636430,
     "user": {
      "displayName": "Jose Antonio Lagares Rodriguez",
      "userId": "00469018537825658051"
     },
     "user_tz": -120
    },
    "id": "gu4ROA0CYgii",
    "outputId": "0c9a73bf-b119-44b5-81e7-0af2c973a0a2"
   },
   "outputs": [
    {
     "name": "stdout",
     "output_type": "stream",
     "text": [
      "      crim    zn  indus  chas    nox     rm   age     dis  rad  tax  ptratio  \\\n",
      "0  0.00632  18.0   2.31     0  0.538  6.575  65.2  4.0900    1  296     15.3   \n",
      "1  0.02731   0.0   7.07     0  0.469  6.421  78.9  4.9671    2  242     17.8   \n",
      "2  0.02729   0.0   7.07     0  0.469  7.185  61.1  4.9671    2  242     17.8   \n",
      "3  0.03237   0.0   2.18     0  0.458  6.998  45.8  6.0622    3  222     18.7   \n",
      "4  0.06905   0.0   2.18     0  0.458  7.147  54.2  6.0622    3  222     18.7   \n",
      "\n",
      "        b  lstat  medv  \n",
      "0  396.90   4.98  24.0  \n",
      "1  396.90   9.14  21.6  \n",
      "2  392.83   4.03  34.7  \n",
      "3  394.63   2.94  33.4  \n",
      "4  396.90   5.33  36.2  \n"
     ]
    }
   ],
   "source": [
    "df = pd.read_csv('https://raw.githubusercontent.com/selva86/datasets/master/BostonHousing.csv')\n",
    "print(df.head())"
   ]
  },
  {
   "cell_type": "markdown",
   "metadata": {
    "id": "H3w1Ny9PRKqU"
   },
   "source": [
    "## 23 - Lea el fichero anterior y si la columna `'medv' (median house value)` es superior a 50 colocar 'high'  y si es menor a 50 colocar 'low'.\n",
    "`pista:  reac_csv(...,converters={})`\n",
    "\n",
    "`URL: https://raw.githubusercontent.com/selva86/datasets/master/BostonHousing.csv`\n",
    "\n",
    "```python\n",
    "# [EJEMPLO]\n",
    "# -- CODIGO --\n",
    "df = pd.read_csv('https://raw.githubusercontent.com/selva86/datasets/master/BostonHousing.csv', \n",
    "                 converters={'medv': lambda x: 'High' if float(x) > 50 else 'Low'})\n",
    "```"
   ]
  },
  {
   "cell_type": "code",
   "execution_count": 27,
   "metadata": {
    "id": "pFZOfbQwZCgx"
   },
   "outputs": [
    {
     "name": "stdout",
     "output_type": "stream",
     "text": [
      "      crim    zn  indus  chas    nox     rm   age     dis  rad  tax  ptratio  \\\n",
      "0  0.00632  18.0   2.31     0  0.538  6.575  65.2  4.0900    1  296     15.3   \n",
      "1  0.02731   0.0   7.07     0  0.469  6.421  78.9  4.9671    2  242     17.8   \n",
      "2  0.02729   0.0   7.07     0  0.469  7.185  61.1  4.9671    2  242     17.8   \n",
      "3  0.03237   0.0   2.18     0  0.458  6.998  45.8  6.0622    3  222     18.7   \n",
      "4  0.06905   0.0   2.18     0  0.458  7.147  54.2  6.0622    3  222     18.7   \n",
      "\n",
      "        b  lstat medv  \n",
      "0  396.90   4.98  Low  \n",
      "1  396.90   9.14  Low  \n",
      "2  392.83   4.03  Low  \n",
      "3  394.63   2.94  Low  \n",
      "4  396.90   5.33  Low  \n"
     ]
    }
   ],
   "source": [
    "df2 = converters={'medv': lambda x: 'High' if float(x) > 50 else 'Low'}\n",
    "print(df.head())"
   ]
  },
  {
   "cell_type": "markdown",
   "metadata": {
    "id": "cAm2y6fORMX8"
   },
   "source": [
    "## 24 - Lea el fichero anterior pero solo cargue las columnas 'crim' y 'medv'.\n",
    "`pista: read_csv(...,usecols=[...]) `\n",
    "\n",
    "`URL: https://raw.githubusercontent.com/selva86/datasets/master/BostonHousing.csv`\n",
    "\n",
    "```python\n",
    "# [EJEMPLO]\n",
    "# -- CODIGO --\n",
    "df = pd.read_csv('https://raw.githubusercontent.com/selva86/datasets/master/BostonHousing.csv', usecols=['crim', 'medv'])\n",
    "```"
   ]
  },
  {
   "cell_type": "code",
   "execution_count": 31,
   "metadata": {
    "id": "ugOl7mXUZ6TB"
   },
   "outputs": [
    {
     "name": "stdout",
     "output_type": "stream",
     "text": [
      "      crim medv\n",
      "0  0.00632  Low\n",
      "1  0.02731  Low\n",
      "2  0.02729  Low\n",
      "3  0.03237  Low\n",
      "4  0.06905  Low\n"
     ]
    }
   ],
   "source": [
    "df3 = df[['crim', 'medv']]\n",
    "print(df3.head())"
   ]
  },
  {
   "cell_type": "markdown",
   "metadata": {
    "id": "X0HpknKdRNjc"
   },
   "source": [
    "## 25 - Lea un fichero CSV y obtenga el número de filas y columnas.\n",
    "`pista:  shape`\n",
    "\n",
    "`URL: https://raw.githubusercontent.com/selva86/datasets/master/BostonHousing.csv`\n",
    "\n",
    "```python\n",
    "# [EJEMPLO]\n",
    "# -- CODIGO --\n",
    "df = pd.read_csv('https://raw.githubusercontent.com/selva86/datasets/master/BostonHousing.csv')\n",
    "print(df.shape)\n",
    "\n",
    "# -- RESULTADO --\n",
    "(506, 14)\n",
    "```"
   ]
  },
  {
   "cell_type": "code",
   "execution_count": 32,
   "metadata": {
    "colab": {
     "base_uri": "https://localhost:8080/"
    },
    "executionInfo": {
     "elapsed": 248,
     "status": "ok",
     "timestamp": 1652982129045,
     "user": {
      "displayName": "Jose Antonio Lagares Rodriguez",
      "userId": "00469018537825658051"
     },
     "user_tz": -120
    },
    "id": "iPid824YaEtp",
    "outputId": "92c5271e-b12a-4b90-d287-0c548d14a005"
   },
   "outputs": [
    {
     "name": "stdout",
     "output_type": "stream",
     "text": [
      "Número de filas y columnas: (506, 14)\n"
     ]
    }
   ],
   "source": [
    "print(\"Número de filas y columnas:\", df.shape)\n"
   ]
  },
  {
   "cell_type": "markdown",
   "metadata": {
    "id": "kttzt4-BRO-M"
   },
   "source": [
    "## 25 - Lea un fichero CSV y obtenga la información del tipo de sus columnas que tiene.\n",
    "`pista:  dtypes`\n",
    "\n",
    "`URL: https://raw.githubusercontent.com/selva86/datasets/master/BostonHousing.csv`\n",
    "```python\n",
    "#  [EJEMPLO]\n",
    "# -- CODIGO --\n",
    "df = pd.read_csv('https://raw.githubusercontent.com/selva86/datasets/master/BostonHousing.csv')\n",
    "\n",
    "# datatypes\n",
    "print(df.dtypes)\n",
    "\n",
    "# -- RESULTADO --\n",
    "crim       float64\n",
    "zn         float64\n",
    "indus      float64\n",
    "chas         int64\n",
    "nox        float64\n",
    "rm         float64\n",
    "age        float64\n",
    "dis        float64\n",
    "rad          int64\n",
    "tax          int64\n",
    "ptratio    float64\n",
    "b          float64\n",
    "lstat      float64\n",
    "medv       float64\n",
    "dtype: object\n",
    "```"
   ]
  },
  {
   "cell_type": "code",
   "execution_count": 33,
   "metadata": {
    "colab": {
     "base_uri": "https://localhost:8080/"
    },
    "executionInfo": {
     "elapsed": 232,
     "status": "ok",
     "timestamp": 1652982127781,
     "user": {
      "displayName": "Jose Antonio Lagares Rodriguez",
      "userId": "00469018537825658051"
     },
     "user_tz": -120
    },
    "id": "zWN9YttdaRBS",
    "outputId": "100a07a1-7e0c-477e-aa7d-e96d3163a58c"
   },
   "outputs": [
    {
     "name": "stdout",
     "output_type": "stream",
     "text": [
      "crim       float64\n",
      "zn         float64\n",
      "indus      float64\n",
      "chas         int64\n",
      "nox        float64\n",
      "rm         float64\n",
      "age        float64\n",
      "dis        float64\n",
      "rad          int64\n",
      "tax          int64\n",
      "ptratio    float64\n",
      "b          float64\n",
      "lstat      float64\n",
      "medv        object\n",
      "dtype: object\n"
     ]
    }
   ],
   "source": [
    "print(df.dtypes)\n"
   ]
  },
  {
   "cell_type": "markdown",
   "metadata": {
    "id": "mcN3ttG3RP_T"
   },
   "source": [
    "## 27 - Describe los atributos del `dataset` cargado por el CSV.\n",
    "`pista:  describe`\n",
    "\n",
    "`URL: https://raw.githubusercontent.com/selva86/datasets/master/BostonHousing.csv`\n",
    "```python\n",
    "# [EJEMPLO]\n",
    "# -- CODIGO --\n",
    "df = pd.read_csv('https://raw.githubusercontent.com/selva86/datasets/master/BostonHousing.csv')\n",
    "describir = df.describe()\n",
    "describir\n",
    "```"
   ]
  },
  {
   "cell_type": "code",
   "execution_count": 34,
   "metadata": {
    "colab": {
     "base_uri": "https://localhost:8080/",
     "height": 364
    },
    "executionInfo": {
     "elapsed": 255,
     "status": "ok",
     "timestamp": 1652982381367,
     "user": {
      "displayName": "Jose Antonio Lagares Rodriguez",
      "userId": "00469018537825658051"
     },
     "user_tz": -120
    },
    "id": "3JNf2EODa-u2",
    "outputId": "916561da-a98f-4f81-b44a-234f8e7b1c8e"
   },
   "outputs": [
    {
     "name": "stdout",
     "output_type": "stream",
     "text": [
      "             crim          zn       indus        chas         nox          rm  \\\n",
      "count  506.000000  506.000000  506.000000  506.000000  506.000000  506.000000   \n",
      "mean     3.613524   11.363636   11.136779    0.069170    0.554695    6.284634   \n",
      "std      8.601545   23.322453    6.860353    0.253994    0.115878    0.702617   \n",
      "min      0.006320    0.000000    0.460000    0.000000    0.385000    3.561000   \n",
      "25%      0.082045    0.000000    5.190000    0.000000    0.449000    5.885500   \n",
      "50%      0.256510    0.000000    9.690000    0.000000    0.538000    6.208500   \n",
      "75%      3.677083   12.500000   18.100000    0.000000    0.624000    6.623500   \n",
      "max     88.976200  100.000000   27.740000    1.000000    0.871000    8.780000   \n",
      "\n",
      "              age         dis         rad         tax     ptratio           b  \\\n",
      "count  506.000000  506.000000  506.000000  506.000000  506.000000  506.000000   \n",
      "mean    68.574901    3.795043    9.549407  408.237154   18.455534  356.674032   \n",
      "std     28.148861    2.105710    8.707259  168.537116    2.164946   91.294864   \n",
      "min      2.900000    1.129600    1.000000  187.000000   12.600000    0.320000   \n",
      "25%     45.025000    2.100175    4.000000  279.000000   17.400000  375.377500   \n",
      "50%     77.500000    3.207450    5.000000  330.000000   19.050000  391.440000   \n",
      "75%     94.075000    5.188425   24.000000  666.000000   20.200000  396.225000   \n",
      "max    100.000000   12.126500   24.000000  711.000000   22.000000  396.900000   \n",
      "\n",
      "            lstat  \n",
      "count  506.000000  \n",
      "mean    12.653063  \n",
      "std      7.141062  \n",
      "min      1.730000  \n",
      "25%      6.950000  \n",
      "50%     11.360000  \n",
      "75%     16.955000  \n",
      "max     37.970000  \n"
     ]
    }
   ],
   "source": [
    "print(df.describe())\n"
   ]
  },
  {
   "cell_type": "markdown",
   "metadata": {
    "id": "iAc1qMxVRRAM"
   },
   "source": [
    "## 28 - Cuente el número de valores `'missing'` en cada columna.\n",
    "`pista: .isnull()`\n",
    "\n",
    "`Cambio de dataset - URL: https://raw.githubusercontent.com/selva86/datasets/master/Cars93_miss.csv`\n",
    "```python\n",
    "# [EJEMPLO]\n",
    "# -- CODIGO --\n",
    "# entrada\n",
    "df = pd.read_csv('https://raw.githubusercontent.com/selva86/datasets/master/Cars93_miss.csv')\n",
    "\n",
    "# Solucion\n",
    "missing_por_columna = df.apply(lambda x: x.isnull().sum())\n",
    "missing_por_columna\n",
    "\n",
    "# -- RESULTADO --\n",
    "Manufacturer           4\n",
    "Model                  1\n",
    "Type                   3\n",
    "Min.Price              7\n",
    "Price                  2\n",
    "Max.Price              5\n",
    "MPG.city               9\n",
    "MPG.highway            2\n",
    "AirBags                6\n",
    "DriveTrain             7\n",
    "Cylinders              5\n",
    "EngineSize             2\n",
    "Horsepower             7\n",
    "RPM                    3\n",
    "Rev.per.mile           6\n",
    "Man.trans.avail        5\n",
    "Fuel.tank.capacity     8\n",
    "Passengers             2\n",
    "Length                 4\n",
    "Wheelbase              1\n",
    "Width                  6\n",
    "Turn.circle            5\n",
    "Rear.seat.room         4\n",
    "Luggage.room          19\n",
    "Weight                 7\n",
    "Origin                 5\n",
    "Make                   3\n",
    "dtype: int64\n",
    "```"
   ]
  },
  {
   "cell_type": "code",
   "execution_count": 38,
   "metadata": {
    "colab": {
     "base_uri": "https://localhost:8080/"
    },
    "executionInfo": {
     "elapsed": 228,
     "status": "ok",
     "timestamp": 1652982791878,
     "user": {
      "displayName": "Jose Antonio Lagares Rodriguez",
      "userId": "00469018537825658051"
     },
     "user_tz": -120
    },
    "id": "nc54vsRhcI4Z",
    "outputId": "447aa7d1-6f40-4fb0-a0a6-cf8f3fcd9c49"
   },
   "outputs": [
    {
     "name": "stdout",
     "output_type": "stream",
     "text": [
      "Manufacturer           4\n",
      "Model                  1\n",
      "Type                   3\n",
      "Min.Price              7\n",
      "Price                  2\n",
      "Max.Price              5\n",
      "MPG.city               9\n",
      "MPG.highway            2\n",
      "AirBags               38\n",
      "DriveTrain             7\n",
      "Cylinders              5\n",
      "EngineSize             2\n",
      "Horsepower             7\n",
      "RPM                    3\n",
      "Rev.per.mile           6\n",
      "Man.trans.avail        5\n",
      "Fuel.tank.capacity     8\n",
      "Passengers             2\n",
      "Length                 4\n",
      "Wheelbase              1\n",
      "Width                  6\n",
      "Turn.circle            5\n",
      "Rear.seat.room         4\n",
      "Luggage.room          19\n",
      "Weight                 7\n",
      "Origin                 5\n",
      "Make                   3\n",
      "dtype: int64\n"
     ]
    }
   ],
   "source": [
    "df = pd.read_csv('https://raw.githubusercontent.com/selva86/datasets/master/Cars93_miss.csv')\n",
    "missing_values = df.isnull().sum()\n",
    "print(missing_values)\n"
   ]
  },
  {
   "cell_type": "markdown",
   "metadata": {
    "id": "8tB5szVIRR40"
   },
   "source": [
    "## 29 - Reemplazar los valores nulos encontrados en las columnas `'Min.Price'` y `'Max.Price'` por la media de esa columna.\n",
    "`pista:  fillna(... mean())`\n",
    "\n",
    "`URL: https://raw.githubusercontent.com/selva86/datasets/master/Cars93_miss.csv`\n",
    "```python\n",
    "# [EJEMPLO]\n",
    "# -- CODIGO --\n",
    "# Entrada\n",
    "df = pd.read_csv('https://raw.githubusercontent.com/selva86/datasets/master/Cars93_miss.csv')\n",
    "\n",
    "# solucion\n",
    "solucion = df[['Min.Price', 'Max.Price']] = df[['Min.Price', 'Max.Price']].apply(lambda x: x.fillna(x.mean()))\n",
    "print(solucion.head())\n",
    "\n",
    "# -- RESULTADO --\n",
    "   Min.Price  Max.Price\n",
    "0  12.900000  18.800000\n",
    "1  29.200000  38.700000\n",
    "2  25.900000  32.300000\n",
    "3  17.118605  44.600000\n",
    "4  17.118605  21.459091\n",
    "```"
   ]
  },
  {
   "cell_type": "code",
   "execution_count": 40,
   "metadata": {
    "colab": {
     "base_uri": "https://localhost:8080/"
    },
    "executionInfo": {
     "elapsed": 874,
     "status": "ok",
     "timestamp": 1652983040837,
     "user": {
      "displayName": "Jose Antonio Lagares Rodriguez",
      "userId": "00469018537825658051"
     },
     "user_tz": -120
    },
    "id": "7I-OvyMKdzXo",
    "outputId": "6ac9f4de-c8c4-4eeb-b2cc-8a4f694a06ac"
   },
   "outputs": [
    {
     "name": "stdout",
     "output_type": "stream",
     "text": [
      "   Min.Price  Max.Price\n",
      "0  12.900000  18.800000\n",
      "1  29.200000  38.700000\n",
      "2  25.900000  32.300000\n",
      "3  17.118605  44.600000\n",
      "4  17.118605  21.459091\n"
     ]
    }
   ],
   "source": [
    "df['Min.Price'] = df['Min.Price'].fillna(df['Min.Price'].mean())\n",
    "df['Max.Price'] = df['Max.Price'].fillna(df['Max.Price'].mean())\n",
    "print(df[['Min.Price', 'Max.Price']].head())\n"
   ]
  },
  {
   "cell_type": "markdown",
   "metadata": {
    "id": "pOZKxqIyRTFM"
   },
   "source": [
    "## 30 - Obten las filas múltiplos de 5 de un fichero CSV.\n",
    "`pista:  iloc`\n",
    "\n",
    "`URL: https://raw.githubusercontent.com/selva86/datasets/master/Cars93_miss.csv`\n",
    "\n",
    "```python\n",
    "# [EJEMPLO]\n",
    "# -- CODIGO --\n",
    "# Entrada\n",
    "df = pd.read_csv('https://raw.githubusercontent.com/selva86/datasets/master/Cars93_miss.csv')\n",
    "\n",
    "# Solucion\n",
    "print(df.iloc[::5, :])\n",
    "\n",
    "# -- RESULTADO --\n",
    "Manufacturer         Model     Type  Min.Price  Price  Max.Price  MPG.city  \\\n",
    "0         Acura       Integra    Small       12.9   15.9       18.8      25.0   \n",
    "5         Buick       Century  Midsize       14.2   15.7       17.3      22.0   \n",
    "10     Cadillac       Seville  Midsize       37.5   40.1       42.7      16.0   \n",
    "15    Chevrolet    Lumina_APV      Van       14.7   16.3       18.0      18.0   \n",
    "20     Chrysler       LeBaron  Compact       14.5   15.8       17.1      23.0   \n",
    "25        Dodge       Caravan      Van        NaN   19.0       24.4      17.0   \n",
    "30         Ford       Festiva    Small        6.9    7.4        7.9      31.0   \n",
    "35         Ford      Aerostar      Van       14.5   19.9       25.3      15.0   \n",
    "40        Honda       Prelude   Sporty       17.0   19.8       22.7      24.0   \n",
    "45      Hyundai        Scoupe      NaN        9.1   10.0       11.0      26.0   \n",
    "50      Lincoln   Continental  Midsize       33.3   34.3       35.3      17.0   \n",
    "55        Mazda           MPV      Van       16.6   19.1       21.7      18.0   \n",
    "60      Mercury        Cougar  Midsize       14.9   14.9       14.9      19.0   \n",
    "65       Nissan         Quest      Van       16.7   19.1       21.5      17.0   \n",
    "70   Oldsmobile  Eighty-Eight    Large       19.5   20.7       21.9       NaN   \n",
    "75      Pontiac    Grand_Prix  Midsize       15.4   18.5       21.6      19.0   \n",
    "80       Subaru        Loyale    Small       10.5   10.9       11.3      25.0   \n",
    "85       Toyota         Camry  Midsize       15.2    NaN       21.2      22.0   \n",
    "90   Volkswagen       Corrado   Sporty       22.9   23.3       23.7      18.0   \n",
    "\n",
    "    MPG.highway             AirBags DriveTrain  ... Passengers  Length  \\\n",
    "0          31.0                None      Front  ...        5.0   177.0   \n",
    "5          31.0         Driver only        NaN  ...        6.0   189.0   \n",
    "10         25.0  Driver & Passenger      Front  ...        5.0   204.0   \n",
    "15         23.0                None      Front  ...        7.0   178.0   \n",
    "20         28.0  Driver & Passenger      Front  ...        6.0   183.0   \n",
    "25         21.0         Driver only        4WD  ...        7.0   175.0   \n",
    "30         33.0                 NaN      Front  ...        4.0   141.0   \n",
    "35         20.0         Driver only        4WD  ...        7.0   176.0   \n",
    "40         31.0  Driver & Passenger      Front  ...        4.0   175.0   \n",
    "45         34.0                None      Front  ...        4.0   166.0   \n",
    "50         26.0  Driver & Passenger        NaN  ...        6.0   205.0   \n",
    "55         24.0                None        4WD  ...        7.0   190.0   \n",
    "60         26.0                None       Rear  ...        5.0   199.0   \n",
    "65         23.0                None      Front  ...        7.0   190.0   \n",
    "70         28.0         Driver only      Front  ...        6.0   201.0   \n",
    "75         27.0                None      Front  ...        5.0   195.0   \n",
    "80         30.0                None        4WD  ...        5.0   175.0   \n",
    "85         29.0         Driver only        NaN  ...        5.0   188.0   \n",
    "90         25.0                None      Front  ...        4.0   159.0   \n",
    "\n",
    "    Wheelbase  Width  Turn.circle Rear.seat.room  Luggage.room  Weight  \\\n",
    "0       102.0   68.0         37.0           26.5           NaN  2705.0   \n",
    "5       105.0   69.0         41.0           28.0          16.0     NaN   \n",
    "10      111.0   74.0         44.0           31.0           NaN  3935.0   \n",
    "15      110.0   74.0         44.0           30.5           NaN  3715.0   \n",
    "20      104.0   68.0         41.0           30.5          14.0  3085.0   \n",
    "25      112.0   72.0         42.0           26.5           NaN  3705.0   \n",
    "30       90.0   63.0         33.0           26.0          12.0  1845.0   \n",
    "35      119.0   72.0         45.0           30.0           NaN  3735.0   \n",
    "40      100.0   70.0         39.0           23.5           8.0  2865.0   \n",
    "45       94.0   64.0         34.0           23.5           9.0  2285.0   \n",
    "50      109.0   73.0         42.0           30.0          19.0  3695.0   \n",
    "55      110.0   72.0         39.0           27.5           NaN  3735.0   \n",
    "60      113.0   73.0         38.0           28.0          15.0  3610.0   \n",
    "65      112.0   74.0         41.0           27.0           NaN  4100.0   \n",
    "70      111.0   74.0         42.0           31.5          17.0  3470.0   \n",
    "75      108.0   72.0         41.0           28.5          16.0  3450.0   \n",
    "80       97.0   65.0         35.0           27.5          15.0  2490.0   \n",
    "85      103.0   70.0         38.0           28.5          15.0  3030.0   \n",
    "90       97.0   66.0         36.0           26.0          15.0  2810.0   \n",
    "\n",
    "     Origin                     Make  \n",
    "0   non-USA            Acura Integra  \n",
    "5       USA            Buick Century  \n",
    "10      USA         Cadillac Seville  \n",
    "15      USA     Chevrolet Lumina_APV  \n",
    "20      USA         Chrysler LeBaron  \n",
    "25      USA            Dodge Caravan  \n",
    "30      USA             Ford Festiva  \n",
    "35      USA            Ford Aerostar  \n",
    "40  non-USA            Honda Prelude  \n",
    "45  non-USA                      NaN  \n",
    "50      USA      Lincoln Continental  \n",
    "55  non-USA                Mazda MPV  \n",
    "60      USA           Mercury Cougar  \n",
    "65  non-USA             Nissan Quest  \n",
    "70      USA  Oldsmobile Eighty-Eight  \n",
    "75      USA       Pontiac Grand_Prix  \n",
    "80  non-USA            Subaru Loyale  \n",
    "85  non-USA             Toyota Camry  \n",
    "90  non-USA       Volkswagen Corrado  \n",
    "\n",
    "[19 rows x 27 columns]\n",
    "```"
   ]
  },
  {
   "cell_type": "code",
   "execution_count": 41,
   "metadata": {
    "colab": {
     "base_uri": "https://localhost:8080/"
    },
    "executionInfo": {
     "elapsed": 590,
     "status": "ok",
     "timestamp": 1652983153918,
     "user": {
      "displayName": "Jose Antonio Lagares Rodriguez",
      "userId": "00469018537825658051"
     },
     "user_tz": -120
    },
    "id": "PyI9r9xEeOk_",
    "outputId": "bbab817b-e919-482f-cd13-b490cac48848"
   },
   "outputs": [
    {
     "name": "stdout",
     "output_type": "stream",
     "text": [
      "   Manufacturer         Model     Type  Min.Price  Price  Max.Price  MPG.city  \\\n",
      "0         Acura       Integra    Small  12.900000   15.9       18.8      25.0   \n",
      "5         Buick       Century  Midsize  14.200000   15.7       17.3      22.0   \n",
      "10     Cadillac       Seville  Midsize  37.500000   40.1       42.7      16.0   \n",
      "15    Chevrolet    Lumina_APV      Van  14.700000   16.3       18.0      18.0   \n",
      "20     Chrysler       LeBaron  Compact  14.500000   15.8       17.1      23.0   \n",
      "25        Dodge       Caravan      Van  17.118605   19.0       24.4      17.0   \n",
      "30         Ford       Festiva    Small   6.900000    7.4        7.9      31.0   \n",
      "35         Ford      Aerostar      Van  14.500000   19.9       25.3      15.0   \n",
      "40        Honda       Prelude   Sporty  17.000000   19.8       22.7      24.0   \n",
      "45      Hyundai        Scoupe      NaN   9.100000   10.0       11.0      26.0   \n",
      "50      Lincoln   Continental  Midsize  33.300000   34.3       35.3      17.0   \n",
      "55        Mazda           MPV      Van  16.600000   19.1       21.7      18.0   \n",
      "60      Mercury        Cougar  Midsize  14.900000   14.9       14.9      19.0   \n",
      "65       Nissan         Quest      Van  16.700000   19.1       21.5      17.0   \n",
      "70   Oldsmobile  Eighty-Eight    Large  19.500000   20.7       21.9       NaN   \n",
      "75      Pontiac    Grand_Prix  Midsize  15.400000   18.5       21.6      19.0   \n",
      "80       Subaru        Loyale    Small  10.500000   10.9       11.3      25.0   \n",
      "85       Toyota         Camry  Midsize  15.200000    NaN       21.2      22.0   \n",
      "90   Volkswagen       Corrado   Sporty  22.900000   23.3       23.7      18.0   \n",
      "\n",
      "    MPG.highway             AirBags DriveTrain  ... Passengers  Length  \\\n",
      "0          31.0                 NaN      Front  ...        5.0   177.0   \n",
      "5          31.0         Driver only        NaN  ...        6.0   189.0   \n",
      "10         25.0  Driver & Passenger      Front  ...        5.0   204.0   \n",
      "15         23.0                 NaN      Front  ...        7.0   178.0   \n",
      "20         28.0  Driver & Passenger      Front  ...        6.0   183.0   \n",
      "25         21.0         Driver only        4WD  ...        7.0   175.0   \n",
      "30         33.0                 NaN      Front  ...        4.0   141.0   \n",
      "35         20.0         Driver only        4WD  ...        7.0   176.0   \n",
      "40         31.0  Driver & Passenger      Front  ...        4.0   175.0   \n",
      "45         34.0                 NaN      Front  ...        4.0   166.0   \n",
      "50         26.0  Driver & Passenger        NaN  ...        6.0   205.0   \n",
      "55         24.0                 NaN        4WD  ...        7.0   190.0   \n",
      "60         26.0                 NaN       Rear  ...        5.0   199.0   \n",
      "65         23.0                 NaN      Front  ...        7.0   190.0   \n",
      "70         28.0         Driver only      Front  ...        6.0   201.0   \n",
      "75         27.0                 NaN      Front  ...        5.0   195.0   \n",
      "80         30.0                 NaN        4WD  ...        5.0   175.0   \n",
      "85         29.0         Driver only        NaN  ...        5.0   188.0   \n",
      "90         25.0                 NaN      Front  ...        4.0   159.0   \n",
      "\n",
      "    Wheelbase  Width  Turn.circle Rear.seat.room  Luggage.room  Weight  \\\n",
      "0       102.0   68.0         37.0           26.5           NaN  2705.0   \n",
      "5       105.0   69.0         41.0           28.0          16.0     NaN   \n",
      "10      111.0   74.0         44.0           31.0           NaN  3935.0   \n",
      "15      110.0   74.0         44.0           30.5           NaN  3715.0   \n",
      "20      104.0   68.0         41.0           30.5          14.0  3085.0   \n",
      "25      112.0   72.0         42.0           26.5           NaN  3705.0   \n",
      "30       90.0   63.0         33.0           26.0          12.0  1845.0   \n",
      "35      119.0   72.0         45.0           30.0           NaN  3735.0   \n",
      "40      100.0   70.0         39.0           23.5           8.0  2865.0   \n",
      "45       94.0   64.0         34.0           23.5           9.0  2285.0   \n",
      "50      109.0   73.0         42.0           30.0          19.0  3695.0   \n",
      "55      110.0   72.0         39.0           27.5           NaN  3735.0   \n",
      "60      113.0   73.0         38.0           28.0          15.0  3610.0   \n",
      "65      112.0   74.0         41.0           27.0           NaN  4100.0   \n",
      "70      111.0   74.0         42.0           31.5          17.0  3470.0   \n",
      "75      108.0   72.0         41.0           28.5          16.0  3450.0   \n",
      "80       97.0   65.0         35.0           27.5          15.0  2490.0   \n",
      "85      103.0   70.0         38.0           28.5          15.0  3030.0   \n",
      "90       97.0   66.0         36.0           26.0          15.0  2810.0   \n",
      "\n",
      "     Origin                     Make  \n",
      "0   non-USA            Acura Integra  \n",
      "5       USA            Buick Century  \n",
      "10      USA         Cadillac Seville  \n",
      "15      USA     Chevrolet Lumina_APV  \n",
      "20      USA         Chrysler LeBaron  \n",
      "25      USA            Dodge Caravan  \n",
      "30      USA             Ford Festiva  \n",
      "35      USA            Ford Aerostar  \n",
      "40  non-USA            Honda Prelude  \n",
      "45  non-USA                      NaN  \n",
      "50      USA      Lincoln Continental  \n",
      "55  non-USA                Mazda MPV  \n",
      "60      USA           Mercury Cougar  \n",
      "65  non-USA             Nissan Quest  \n",
      "70      USA  Oldsmobile Eighty-Eight  \n",
      "75      USA       Pontiac Grand_Prix  \n",
      "80  non-USA            Subaru Loyale  \n",
      "85  non-USA             Toyota Camry  \n",
      "90  non-USA       Volkswagen Corrado  \n",
      "\n",
      "[19 rows x 27 columns]\n"
     ]
    }
   ],
   "source": [
    "filas_multiplo_5 = df.iloc[::5, :]\n",
    "print(filas_multiplo_5)\n"
   ]
  }
 ],
 "metadata": {
  "colab": {
   "authorship_tag": "ABX9TyOfA4ZhK9srirb4gFA1H+z8",
   "collapsed_sections": [],
   "name": "Pandas Avanzado.ipynb",
   "provenance": []
  },
  "kernelspec": {
   "display_name": "Python 3",
   "name": "python3"
  },
  "language_info": {
   "codemirror_mode": {
    "name": "ipython",
    "version": 3
   },
   "file_extension": ".py",
   "mimetype": "text/x-python",
   "name": "python",
   "nbconvert_exporter": "python",
   "pygments_lexer": "ipython3",
   "version": "3.10.11"
  }
 },
 "nbformat": 4,
 "nbformat_minor": 0
}
