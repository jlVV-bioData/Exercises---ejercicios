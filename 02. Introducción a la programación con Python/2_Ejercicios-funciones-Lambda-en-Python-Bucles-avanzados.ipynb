{
 "cells": [
  {
   "cell_type": "markdown",
   "metadata": {
    "id": "HBq7UgX8i0g_"
   },
   "source": [
    "# Ejercicio 1\n",
    "Escriba un programa en Python que genere una función lambda que permita multiplicar dos números."
   ]
  },
  {
   "cell_type": "code",
   "execution_count": 1,
   "metadata": {
    "colab": {
     "base_uri": "https://localhost:8080/"
    },
    "executionInfo": {
     "elapsed": 243,
     "status": "ok",
     "timestamp": 1652682856667,
     "user": {
      "displayName": "Jose Antonio Lagares Rodriguez",
      "userId": "00469018537825658051"
     },
     "user_tz": -120
    },
    "id": "BuS6X_nOkjGu",
    "outputId": "75ce5256-33c6-4b1d-a2c3-cf064f8b3d51"
   },
   "outputs": [
    {
     "name": "stdout",
     "output_type": "stream",
     "text": [
      "Resultado : 12\n"
     ]
    }
   ],
   "source": [
    "multiplicar = lambda x, y: x * y\n",
    "resultado = multiplicar(3, 4)\n",
    "print('Resultado :', resultado)"
   ]
  },
  {
   "cell_type": "markdown",
   "metadata": {
    "id": "F5Y9K7ycnjil"
   },
   "source": [
    "# Ejercicio 2\n",
    "Escriba una función de Python para dar la suma de los números de una lista."
   ]
  },
  {
   "cell_type": "code",
   "execution_count": 2,
   "metadata": {
    "colab": {
     "base_uri": "https://localhost:8080/"
    },
    "executionInfo": {
     "elapsed": 17,
     "status": "ok",
     "timestamp": 1653491456886,
     "user": {
      "displayName": "Mario Cantelar Jiménez",
      "userId": "01450803641083030674"
     },
     "user_tz": -120
    },
    "id": "5ookogOxoWzG",
    "outputId": "96b59d6a-8b28-4df2-d13c-aa7d748f0ca5"
   },
   "outputs": [
    {
     "name": "stdout",
     "output_type": "stream",
     "text": [
      "Suma de la lista: 15\n"
     ]
    }
   ],
   "source": [
    "def suma_lista(numeros):\n",
    "    return sum(numeros)\n",
    "\n",
    "lista = [1, 2, 3, 4, 5]\n",
    "resultado_suma = suma_lista(lista)\n",
    "print('Suma de la lista:', resultado_suma)"
   ]
  },
  {
   "cell_type": "markdown",
   "metadata": {
    "id": "xuLl129pw6vE"
   },
   "source": [
    "# Ejercicio 3\n",
    "\n",
    "Dada una lista y un número, cree una función que devuelva dos parámetros:\n",
    "\n",
    "1) Si está dicho número en esa lista. En dicho caso Devolverá `TRUE`. En caso contrario, `False`.\n",
    "\n",
    "2) Si la longitud de la lista coincide con dicho número. En dicho caso devolverá `TRUE`. En caso contrario, `False`."
   ]
  },
  {
   "cell_type": "code",
   "execution_count": 3,
   "metadata": {
    "colab": {
     "base_uri": "https://localhost:8080/"
    },
    "executionInfo": {
     "elapsed": 240,
     "status": "ok",
     "timestamp": 1652687607216,
     "user": {
      "displayName": "Jose Antonio Lagares Rodriguez",
      "userId": "00469018537825658051"
     },
     "user_tz": -120
    },
    "id": "wfYiL5zFxepD",
    "outputId": "b39bf68b-0a2c-4ae7-f018-0e73c4865055"
   },
   "outputs": [
    {
     "name": "stdout",
     "output_type": "stream",
     "text": [
      "Está en la lista: True\n",
      "Longitud coincide: True\n"
     ]
    }
   ],
   "source": [
    "def verificar_lista_y_numero(lista, numero):\n",
    "    esta_en_lista = numero in lista\n",
    "    longitud_coincide = len(lista) == numero\n",
    "    return esta_en_lista, longitud_coincide\n",
    "\n",
    "numero = 5\n",
    "resultado_verificacion = verificar_lista_y_numero(lista, numero)\n",
    "print('Está en la lista:', resultado_verificacion[0])\n",
    "print('Longitud coincide:', resultado_verificacion[1])"
   ]
  },
  {
   "cell_type": "markdown",
   "metadata": {
    "id": "4N9cJUzc3Ahq"
   },
   "source": [
    "# Ejercicio 4\n",
    "\n",
    "Dada una lista, cree dos funciones, una que devuelva el mayor número y otra que devuelva en menor número.\n",
    "\n"
   ]
  },
  {
   "cell_type": "code",
   "execution_count": 4,
   "metadata": {
    "id": "d1ETZTP03OAn"
   },
   "outputs": [
    {
     "name": "stdout",
     "output_type": "stream",
     "text": [
      "Mayor número: 5\n",
      "Menor número: 1\n"
     ]
    }
   ],
   "source": [
    "def mayor_numero(lista):\n",
    "    mayor = lista[0]\n",
    "    for num in lista:\n",
    "        if num > mayor:\n",
    "            mayor = num\n",
    "    return mayor\n",
    "\n",
    "def menor_numero(lista):\n",
    "    menor = lista[0]\n",
    "    for num in lista:\n",
    "        if num < menor:\n",
    "            menor = num\n",
    "    return menor\n",
    "\n",
    "mayor = mayor_numero(lista)\n",
    "menor = menor_numero(lista)\n",
    "print('Mayor número:', mayor)\n",
    "print('Menor número:', menor)"
   ]
  },
  {
   "cell_type": "markdown",
   "metadata": {
    "id": "zHqclDHg4I9Z"
   },
   "source": [
    "# Ejercicio 5\n",
    "Use la funcion `sorted` para ordenar una lista de números en orden ascendente y también descendente.\n",
    "\n",
    "Mire en la [documentación](https://docs.python.org/3/howto/sorting.html) como puede ser usada.\n"
   ]
  },
  {
   "cell_type": "code",
   "execution_count": 6,
   "metadata": {
    "colab": {
     "base_uri": "https://localhost:8080/"
    },
    "executionInfo": {
     "elapsed": 258,
     "status": "ok",
     "timestamp": 1652688098330,
     "user": {
      "displayName": "Jose Antonio Lagares Rodriguez",
      "userId": "00469018537825658051"
     },
     "user_tz": -120
    },
    "id": "oX1wPWEy4pSJ",
    "outputId": "96eee1c7-e727-400d-aa7e-1902b25bbce6"
   },
   "outputs": [
    {
     "name": "stdout",
     "output_type": "stream",
     "text": [
      "Lista ordenada en orden ascendente: [1, 2, 3, 4, 5]\n",
      "Lista ordenada en orden descendente: [5, 4, 3, 2, 1]\n"
     ]
    }
   ],
   "source": [
    "lista_ordenada_asc = sorted(lista)\n",
    "lista_ordenada_desc = sorted(lista, reverse=True)\n",
    "\n",
    "print('Lista ordenada en orden ascendente:', lista_ordenada_asc)\n",
    "print('Lista ordenada en orden descendente:', lista_ordenada_desc)"
   ]
  },
  {
   "cell_type": "markdown",
   "metadata": {
    "id": "8-G0tHOJ4I6x"
   },
   "source": [
    "# Ejercicio 6\n",
    "\n",
    "Dada una lista de palabras que defina y una palabra introducida por el usuario, analice si dicha palabra está en la lista.\n",
    "\n",
    "En el caso de que la encuentre deberá avisar. \n",
    "Si no está, deberá añadirla a la lista. \n",
    "\n",
    "Use `lista_apalabras.append(palabra)` para añadir una palabra a la lista."
   ]
  },
  {
   "cell_type": "code",
   "execution_count": 5,
   "metadata": {},
   "outputs": [
    {
     "name": "stdout",
     "output_type": "stream",
     "text": [
      "La palabra 'kiwi' no estaba en la lista y ha sido añadida.\n",
      "['manzana', 'banana', 'naranja', 'pera', 'kiwi']\n"
     ]
    }
   ],
   "source": [
    "# Definir la lista de palabras\n",
    "lista_palabras = ['manzana', 'banana', 'naranja', 'pera']\n",
    "\n",
    "# Pedir al usuario que introduzca una palabra\n",
    "palabra = input(\"Introduce una palabra: \")\n",
    "\n",
    "# Analizar si la palabra está en la lista\n",
    "if palabra in lista_palabras:\n",
    "    print(f\"La palabra '{palabra}' está en la lista.\")\n",
    "else:\n",
    "    lista_palabras.append(palabra)\n",
    "    print(f\"La palabra '{palabra}' no estaba en la lista y ha sido añadida.\")\n",
    "    print(lista_palabras)"
   ]
  },
  {
   "cell_type": "markdown",
   "metadata": {
    "id": "wk_z-O2f8kTZ"
   },
   "source": [
    "# Ejercicio 7\n",
    "Cree una función para contar la cantidad de números negativos de una lista.\n"
   ]
  },
  {
   "cell_type": "code",
   "execution_count": 6,
   "metadata": {
    "colab": {
     "base_uri": "https://localhost:8080/"
    },
    "executionInfo": {
     "elapsed": 283,
     "status": "ok",
     "timestamp": 1652689201431,
     "user": {
      "displayName": "Jose Antonio Lagares Rodriguez",
      "userId": "00469018537825658051"
     },
     "user_tz": -120
    },
    "id": "IJpfq-_S8yKA",
    "outputId": "1d85f2fa-4323-4519-ad07-4cde079abf2c"
   },
   "outputs": [
    {
     "name": "stdout",
     "output_type": "stream",
     "text": [
      "Cantidad de números negativos: 3\n"
     ]
    }
   ],
   "source": [
    "def contar_numeros_negativos(lista):\n",
    "    contador = 0\n",
    "    for numero in lista:\n",
    "        if numero < 0:\n",
    "            contador += 1\n",
    "    return contador\n",
    "\n",
    "# Ejemplo de uso\n",
    "lista_numeros = [1, -2, 3, -4, 5, -6]\n",
    "cantidad_negativos = contar_numeros_negativos(lista_numeros)\n",
    "print('Cantidad de números negativos:', cantidad_negativos)"
   ]
  },
  {
   "cell_type": "markdown",
   "metadata": {
    "id": "ZH0rEaEF9aMe"
   },
   "source": [
    "# Ejercicio 8\n",
    "\n",
    "Cree una función para contar la cantidad de números impares de una lista.\n"
   ]
  },
  {
   "cell_type": "code",
   "execution_count": 7,
   "metadata": {},
   "outputs": [
    {
     "name": "stdout",
     "output_type": "stream",
     "text": [
      "Cantidad de números impares: 3\n"
     ]
    }
   ],
   "source": [
    "def contar_numeros_impares(lista):\n",
    "    contador = 0\n",
    "    for numero in lista:\n",
    "        if numero % 2 != 0:\n",
    "            contador += 1\n",
    "    return contador\n",
    "\n",
    "# Ejemplo de uso\n",
    "cantidad_impares = contar_numeros_impares(lista_numeros)\n",
    "print('Cantidad de números impares:', cantidad_impares)"
   ]
  },
  {
   "cell_type": "markdown",
   "metadata": {
    "id": "qc7fCz-19hZQ"
   },
   "source": [
    "# Ejercicio 9\n",
    "\n",
    "Dada una palabra, cuente el número de vocales que tiene.\n",
    "\n"
   ]
  },
  {
   "cell_type": "code",
   "execution_count": 8,
   "metadata": {
    "colab": {
     "base_uri": "https://localhost:8080/"
    },
    "executionInfo": {
     "elapsed": 241,
     "status": "ok",
     "timestamp": 1652689662842,
     "user": {
      "displayName": "Jose Antonio Lagares Rodriguez",
      "userId": "00469018537825658051"
     },
     "user_tz": -120
    },
    "id": "iuvy8z1y-P_w",
    "outputId": "4fa5ca72-008b-4889-c8e9-3494848abd11"
   },
   "outputs": [
    {
     "name": "stdout",
     "output_type": "stream",
     "text": [
      "Cantidad de vocales en la palabra: 2\n"
     ]
    }
   ],
   "source": [
    "def contar_vocales(palabra):\n",
    "    vocales = 'aeiouAEIOU'\n",
    "    contador = 0\n",
    "    for letra in palabra:\n",
    "        if letra in vocales:\n",
    "            contador += 1\n",
    "    return contador\n",
    "\n",
    "palabra = 'kiwi'\n",
    "cantidad_vocales = contar_vocales(palabra)\n",
    "print('Cantidad de vocales en la palabra:', cantidad_vocales)\n"
   ]
  },
  {
   "cell_type": "markdown",
   "metadata": {
    "id": "YGnbsImX-11o"
   },
   "source": [
    "# Ejercicio 10\n",
    "Imprima el abecedario al revés.\n",
    "\n",
    "Puede ayudarse de [reversed.](https://docs.python.org/3/library/functions.html?highlight=reverse#reversed)"
   ]
  },
  {
   "cell_type": "code",
   "execution_count": 9,
   "metadata": {},
   "outputs": [
    {
     "name": "stdout",
     "output_type": "stream",
     "text": [
      "Abecedario al revés: zyxwvutsrqponmlkjihgfedcba\n"
     ]
    }
   ],
   "source": [
    "abecedario = 'abcdefghijklmnopqrstuvwxyz'\n",
    "abecedario_reves = ''.join(reversed(abecedario))\n",
    "print('Abecedario al revés:', abecedario_reves)"
   ]
  },
  {
   "cell_type": "markdown",
   "metadata": {
    "id": "YYAnKUyRZBvv"
   },
   "source": [
    "# Ejercicio 11\n",
    "\n",
    "Dado este diccionario concatenado\n",
    "\n",
    "```python\n",
    "d = {'k1':[1,2,3,{'tricky':['oh','man','inception',{'target':[1,2,3,'hello']}]}]}\n",
    "```\n",
    "obtenga el string 'hello'"
   ]
  },
  {
   "cell_type": "code",
   "execution_count": 10,
   "metadata": {
    "colab": {
     "base_uri": "https://localhost:8080/",
     "height": 35
    },
    "executionInfo": {
     "elapsed": 224,
     "status": "ok",
     "timestamp": 1652696678002,
     "user": {
      "displayName": "Jose Antonio Lagares Rodriguez",
      "userId": "00469018537825658051"
     },
     "user_tz": -120
    },
    "id": "_M05AK5lZBcY",
    "outputId": "561eeede-b710-43fc-f74d-a8dc5c5e4f95"
   },
   "outputs": [
    {
     "name": "stdout",
     "output_type": "stream",
     "text": [
      "hello\n"
     ]
    }
   ],
   "source": [
    "d = {'k1':[1,2,3,{'tricky':['oh','man','inception',{'target':[1,2,3,'hello']}]}]}\n",
    "\n",
    "# Acceder al string 'hello'\n",
    "hello_string = d['k1'][3]['tricky'][3]['target'][3]\n",
    "print(hello_string)"
   ]
  },
  {
   "cell_type": "markdown",
   "metadata": {
    "id": "1ookRcp6AMB3"
   },
   "source": [
    "# Ejercicio de ampliación 1\n",
    "Modifique el programa de la contraseña para dar al usuario solo 3 intentos. Si pasados dichos intentos el usuario no ha escrito bien la contraseña el programa acabará."
   ]
  },
  {
   "cell_type": "code",
   "execution_count": 14,
   "metadata": {},
   "outputs": [
    {
     "name": "stdout",
     "output_type": "stream",
     "text": [
      "Contraseña incorrecta. Inténtalo de nuevo.\n",
      "Contraseña incorrecta. Inténtalo de nuevo.\n",
      "Contraseña incorrecta. Inténtalo de nuevo.\n",
      "Has alcanzado el número máximo de intentos. El programa ha terminado.\n"
     ]
    }
   ],
   "source": [
    "# Definir la contraseña correcta\n",
    "contraseña_correcta = \"123\"\n",
    "\n",
    "# Contador de intentos\n",
    "intentos = 0\n",
    "\n",
    "# Bucle para permitir hasta 3 intentos\n",
    "while intentos < 3:\n",
    "    # Pedir al usuario que introduzca la contraseña\n",
    "    contraseña = input(\"Introduce la contraseña: \")\n",
    "    \n",
    "    # Verificar si la contraseña es correcta\n",
    "    if contraseña == contraseña_correcta:\n",
    "        print(\"Contraseña correcta\")\n",
    "        break\n",
    "    else:\n",
    "        print(\"Contraseña incorrecta. Inténtalo de nuevo.\")\n",
    "        intentos += 1\n",
    "\n",
    "# Si se alcanzan los 3 intentos fallidos, mostrar un mensaje y finalizar el programa\n",
    "if intentos == 3:\n",
    "    print(\"Has alcanzado el número máximo de intentos. El programa ha terminado.\")"
   ]
  },
  {
   "cell_type": "markdown",
   "metadata": {
    "id": "ye7o8a3HaJMh"
   },
   "source": [
    "# Ejercicio de ampliación 2\n",
    "\n",
    "Dada una matrix \n",
    "\n",
    "1 2 \n",
    "\n",
    "3 4\n",
    "\n",
    "5 6\n",
    "\n",
    "7 8 \n",
    "\n",
    "\n",
    "\n",
    "```\n",
    "matrix = [[1, 2], [3, 4], [5, 6], [7, 8]]\n",
    "```\n",
    "\n",
    "Se pide (de forma independiente por cada apartado):\n",
    "\n",
    "**1**) Pida un número por consola al usuario usando el siguiente comando:\n",
    "\n",
    "\n",
    "```\n",
    "numero = input(\"Por favor ingrese un número: \")\n",
    "```\n",
    "**2**) Controle que el número esté entre 1 y 9. Muestre un mensaje de error en caso de no complir dicha condición. El programa no debe continuar (no use `break` para realizar esta cuestión).\n",
    "\n",
    "**3**) Encuentre aquellos factores superiores a dicho número. Para localizar un elemento de la matrix puede usar:\n",
    "\n",
    "```\n",
    "elemento = matrix[fila][columna]\n",
    "```\n",
    "*Pista*: Use bucles aninados, `range` y `len`.\n",
    "\n",
    "**4**) Devuelva su matrix *traspuesta*.\n",
    "[Matriz traspuesta](https://upload.wikimedia.org/wikipedia/commons/e/e4/Matrix_transpose.gif). Este punto puede realizarlo fuera de las condiciones realizadas anteriormente.\n",
    "\n",
    "**Extra**) puede controlar si un usuario introduce otro valor (letra, símbolo u otro caracter) usando `isdigit`, `is_numeric` o `is_decimal`. ¿Cuál vendría mejor? \n",
    "\n",
    "\n",
    "**En todo momento trate de usar listas de comprensión, siempre que le sea posible.**"
   ]
  },
  {
   "cell_type": "code",
   "execution_count": 17,
   "metadata": {
    "colab": {
     "base_uri": "https://localhost:8080/"
    },
    "executionInfo": {
     "elapsed": 3376,
     "status": "ok",
     "timestamp": 1652681891259,
     "user": {
      "displayName": "Jose Antonio Lagares Rodriguez",
      "userId": "00469018537825658051"
     },
     "user_tz": -120
    },
    "id": "h1h76Okja_jB",
    "outputId": "40fd7202-7d95-4202-ecaf-42637e1dc741"
   },
   "outputs": [
    {
     "name": "stdout",
     "output_type": "stream",
     "text": [
      "Error: El número debe estar entre 1 y 9.\n"
     ]
    }
   ],
   "source": [
    "# Definir la matrix\n",
    "matrix = [[1, 2], [3, 4], [5, 6], [7, 8]]\n",
    "\n",
    "# 1) Pedir un número por consola al usuario\n",
    "numero = input(\"Por favor ingrese un número: \")\n",
    "\n",
    "# Extra) Controlar si el usuario introduce un valor válido\n",
    "if not numero.isdigit():\n",
    "    print(\"Error: Debe ingresar un número.\")\n",
    "else:\n",
    "    numero = int(numero)\n",
    "    \n",
    "    # 2) Controlar que el número esté entre 1 y 9\n",
    "    if numero < 1 or numero > 9:\n",
    "        print(\"Error: El número debe estar entre 1 y 9.\")\n",
    "    else:\n",
    "        # 3) Encontrar factores superiores al número ingresado\n",
    "        factores_superiores = [matrix[fila][columna] for fila in range(len(matrix)) for columna in range(len(matrix[0])) if matrix[fila][columna] > numero]\n",
    "        print(\"Factores superiores a\", numero, \":\", factores_superiores)\n",
    "        \n",
    "        # 4) Devolver la matrix traspuesta\n",
    "        matrix_traspuesta = [[matrix[fila][columna] for fila in range(len(matrix))] for columna in range(len(matrix[0]))]\n",
    "        print(\"Matrix traspuesta:\")\n",
    "        for fila in matrix_traspuesta:\n",
    "            print(fila)\n"
   ]
  }
 ],
 "metadata": {
  "colab": {
   "name": "[Ejercicios]Funciones Lambda en Python + Bucles avanzados.ipynb.ipynb",
   "provenance": []
  },
  "kernelspec": {
   "display_name": "Python 3",
   "name": "python3"
  },
  "language_info": {
   "codemirror_mode": {
    "name": "ipython",
    "version": 3
   },
   "file_extension": ".py",
   "mimetype": "text/x-python",
   "name": "python",
   "nbconvert_exporter": "python",
   "pygments_lexer": "ipython3",
   "version": "3.10.11"
  }
 },
 "nbformat": 4,
 "nbformat_minor": 0
}
