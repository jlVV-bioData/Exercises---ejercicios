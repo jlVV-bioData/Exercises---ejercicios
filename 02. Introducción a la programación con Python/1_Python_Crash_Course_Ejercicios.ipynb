{
 "cells": [
  {
   "cell_type": "markdown",
   "metadata": {
    "id": "MBJRcMQb6HTw"
   },
   "source": [
    "# Python Crash Course Ejercicios"
   ]
  },
  {
   "cell_type": "markdown",
   "metadata": {
    "id": "-_xycVFZ6HT2"
   },
   "source": [
    "## Miscelánea"
   ]
  },
  {
   "cell_type": "markdown",
   "metadata": {
    "id": "UuiGC6Va6HT3"
   },
   "source": [
    "### **Calcule 7 elevado a 4**"
   ]
  },
  {
   "cell_type": "code",
   "execution_count": 2,
   "metadata": {
    "id": "ndBNd9g66HT3"
   },
   "outputs": [
    {
     "data": {
      "text/plain": [
       "2401"
      ]
     },
     "execution_count": 2,
     "metadata": {},
     "output_type": "execute_result"
    }
   ],
   "source": [
    "# DESARROLLO\n",
    "7**4"
   ]
  },
  {
   "cell_type": "markdown",
   "metadata": {
    "id": "kQL7-qTImrWo"
   },
   "source": [
    "#### *Resultado esperado:*\n",
    "\n",
    "```python\n",
    "2401\n",
    "```"
   ]
  },
  {
   "cell_type": "markdown",
   "metadata": {
    "id": "HS1xj2S-6HT4"
   },
   "source": [
    "### **Divida el siguiente string en una lista**\n",
    "```python\n",
    "s = 'Hi there, Sam!'\n",
    "```\n"
   ]
  },
  {
   "cell_type": "code",
   "execution_count": 3,
   "metadata": {
    "id": "ELsz3tQn6HT5"
   },
   "outputs": [
    {
     "name": "stdout",
     "output_type": "stream",
     "text": [
      "['Hi', 'there,', 'Sam!']\n"
     ]
    }
   ],
   "source": [
    "# DESARROLLO\n",
    "s = 'Hi there, Sam!'\n",
    "lista = s.split()\n",
    "print(lista)"
   ]
  },
  {
   "cell_type": "markdown",
   "metadata": {
    "id": "6b_TvOg4m8ZL"
   },
   "source": [
    "#### *Resultado esperado:*\n",
    "\n",
    "```python\n",
    "['Hi', 'there,', 'Sam!']\n",
    "```"
   ]
  },
  {
   "cell_type": "markdown",
   "metadata": {
    "id": "rrWSdek76HT5"
   },
   "source": [
    "### **Dadas las variables**\n",
    "\n",
    "```python\n",
    "planet = \"Earth\"\n",
    "diameter = 12742\n",
    "```\n",
    "\n",
    "**use el método .format() para imprimir el siguiente string:**\n",
    "```python\n",
    "'The diameter of Earth is 12742 kilometers.'\n",
    "```"
   ]
  },
  {
   "cell_type": "code",
   "execution_count": 4,
   "metadata": {
    "id": "wQir-9t_6HT6"
   },
   "outputs": [
    {
     "name": "stdout",
     "output_type": "stream",
     "text": [
      "The diameter of Earth is 12742 kilometers\n"
     ]
    }
   ],
   "source": [
    "planet = \"Earth\"\n",
    "diameter = 12742\n",
    "print('The diameter of {} is {} kilometers'.format(planet, diameter))"
   ]
  },
  {
   "cell_type": "markdown",
   "metadata": {
    "id": "boGFpaKZ6HT6"
   },
   "source": [
    "### **Dada la siguiente lista concatenada, obtenga de la misma el string 'hello':**\n",
    "\n",
    "```python\n",
    "lst = [1,2,[3,4],[5,[100,200,['hello']],23,11],1,7]\n",
    "```"
   ]
  },
  {
   "cell_type": "code",
   "execution_count": 24,
   "metadata": {},
   "outputs": [
    {
     "name": "stdout",
     "output_type": "stream",
     "text": [
      "hello\n"
     ]
    }
   ],
   "source": [
    "lst = [1,2,[3,4],[5,[100,200,['hello']],23,11],1,7]\n",
    "hello = lst[3][1][2][0]\n",
    "print(hello)"
   ]
  },
  {
   "cell_type": "markdown",
   "metadata": {
    "id": "HCtFsklU6HT7"
   },
   "source": [
    "### **Dado este diccionario concatenado, obtenga el string 'hello':**\n",
    "\n",
    "```python\n",
    "d = {'k1':[1,2,3,{'tricky':['oh','man','inception',{'target':[1,2,3,'hello']}]}]}\n",
    "```\n"
   ]
  },
  {
   "cell_type": "code",
   "execution_count": 37,
   "metadata": {
    "id": "eK0F7BHE6HT7"
   },
   "outputs": [
    {
     "name": "stdout",
     "output_type": "stream",
     "text": [
      "hello\n"
     ]
    }
   ],
   "source": [
    "d = {'k1':[1,2,3,{'tricky':['oh','man','inception',{'target':[1,2,3,'hello']}]}]}\n",
    "d1 = {'tricky':['oh','man','inception',{'target':[1,2,3,'hello']}]}\n",
    "d2 = {'target':[1,2,3,'hello']}\n",
    "d2 ['target']\n",
    "lst = [1,2,3,'hello']\n",
    "print(\"{}\".format(lst[-1]))"
   ]
  },
  {
   "cell_type": "markdown",
   "metadata": {
    "id": "-qkrVzXB6HT9"
   },
   "source": [
    "### **Implemente una función llamada findDog, que tenga como entrada un string, que devuelva el valor True si ese string contiene la palabra 'dog'. Tenga en cuenta las posibles mayúsculas, y compruebe su función con el string 'Is there a dog here?'.**"
   ]
  },
  {
   "cell_type": "code",
   "execution_count": 1,
   "metadata": {
    "id": "pIB02qFe6HT9"
   },
   "outputs": [
    {
     "name": "stdout",
     "output_type": "stream",
     "text": [
      "True\n"
     ]
    }
   ],
   "source": [
    "def findDog(st):\n",
    "    return 'dog' in st.lower()\n",
    "\n",
    "print(findDog('Is there a dog here?'))\n"
   ]
  },
  {
   "cell_type": "markdown",
   "metadata": {
    "id": "470Ng0oQ6HT9"
   },
   "source": [
    "### **Implemente una función similar a la del ejercicio anterior, pero que esta vez cuente el número de apariciones del string 'dog' en un cierto input. Compruebe sus resultados con el string:**\n",
    "\n",
    "```python\n",
    "'This dog runs faster than the other dog dude!'\n",
    "```"
   ]
  },
  {
   "cell_type": "code",
   "execution_count": 8,
   "metadata": {
    "id": "TcCKtbS06HT9"
   },
   "outputs": [
    {
     "name": "stdout",
     "output_type": "stream",
     "text": [
      "2\n"
     ]
    }
   ],
   "source": [
    "def countDog(st):\n",
    "    return st.lower().split().count('dog')\n",
    "\n",
    "# Comprobación de la función con el string dado\n",
    "print(countDog('This dog runs faster than the other dog dude!'))"
   ]
  },
  {
   "cell_type": "markdown",
   "metadata": {
    "id": "s2sVxrvo6HT-"
   },
   "source": [
    "### **Use funciones lambda y la función .filter() para filtrar palabras de una lista que no empiecen con la letra 's'. Por ejemplo,**\n",
    "```python\n",
    "seq = ['soup','dog','salad','cat','great']\n",
    "```\n",
    "### **debería ser filtrado para obtener:**\n",
    "```python\n",
    "seq = ['soup','salad']\n",
    "```"
   ]
  },
  {
   "cell_type": "code",
   "execution_count": 4,
   "metadata": {
    "id": "0z6TWn476HT-"
   },
   "outputs": [
    {
     "name": "stdout",
     "output_type": "stream",
     "text": [
      "['soup', 'salad']\n"
     ]
    }
   ],
   "source": [
    "seq = ['soup', 'dog', 'salad', 'cat', 'great']\n",
    "filtered_seq = list(filter(lambda word: word.startswith('s'), seq))\n",
    "print(filtered_seq)"
   ]
  },
  {
   "cell_type": "markdown",
   "metadata": {
    "id": "nbwN6Lcc6HT-"
   },
   "source": [
    "## Métodos (I)\n",
    "Un conductor va a una velocidad demasiado rápida, y un agente le detiene. Escribe una función con tres posibles resultados, *no ticket*, *small ticket* o *big ticket*, y que devuelva lo siguiente:\n",
    "\n",
    "*  Si la velocidad es de 60 o menos, el resultado debe ser *no ticket*.\n",
    "*  Si la velocidad está entre 61 y 80 (inclusive), el resultado debe ser *small ticket*.\n",
    "*  Si la velocidad es superior a 80, el resultado debe ser *big ticket*.\n",
    "*  Si es tu cumpleaños, puedes ir a la velocidad que quieras."
   ]
  },
  {
   "cell_type": "code",
   "execution_count": 1,
   "metadata": {
    "collapsed": true,
    "id": "EB7yOWxv6HT_"
   },
   "outputs": [
    {
     "name": "stdout",
     "output_type": "stream",
     "text": [
      "Small Ticket\n"
     ]
    }
   ],
   "source": [
    "def caught_speeding(speed, is_birthday):\n",
    "    if is_birthday:\n",
    "        speed -= 5\n",
    "    if speed <= 60:\n",
    "        return 'No Ticket'\n",
    "    elif speed <= 80:\n",
    "        return 'Small Ticket'\n",
    "    else:\n",
    "        return 'Big Ticket'\n",
    "print(caught_speeding(65, False))\n"
   ]
  },
  {
   "cell_type": "code",
   "execution_count": 2,
   "metadata": {
    "id": "YKoUNd5w6HT_",
    "outputId": "5a798473-8ac4-47ac-b963-8b197815ecd2"
   },
   "outputs": [
    {
     "name": "stdout",
     "output_type": "stream",
     "text": [
      "No Ticket\n"
     ]
    }
   ],
   "source": [
    "print(caught_speeding(60, False))"
   ]
  },
  {
   "cell_type": "code",
   "execution_count": 13,
   "metadata": {
    "id": "Jpf8nzPn6HT_",
    "outputId": "36102f69-f33b-4ad2-c24a-6317c0ed0e87"
   },
   "outputs": [
    {
     "name": "stdout",
     "output_type": "stream",
     "text": [
      "Big Ticket\n"
     ]
    }
   ],
   "source": [
    "print(caught_speeding(85, False))"
   ]
  },
  {
   "cell_type": "code",
   "execution_count": 9,
   "metadata": {},
   "outputs": [
    {
     "name": "stdout",
     "output_type": "stream",
     "text": [
      "Small Ticket\n"
     ]
    }
   ],
   "source": [
    "print(caught_speeding(85, True))"
   ]
  },
  {
   "cell_type": "markdown",
   "metadata": {
    "id": "gpYpfsuvIA3w"
   },
   "source": [
    "# Clases (I)\n",
    "Realizar un programa que conste de una clase llamada Alumno que tenga como atributos el nombre y la(s) nota(s) del alumno en una lista. Definir los métodos para inicializar sus atributos, imprimirlos y mostrar un mensaje con el resultado de la nota y si ha aprobado o no.\n",
    "\n",
    "*Indicaciones: Para inicializar la clase, directamente podemos introducir la media de las notas:*\n",
    "\n",
    "```python\n",
    "# inicializamos la clase\n",
    "class Alumno:\n",
    "    # inicializamos los atributos\n",
    "    def __init__(self,nombre,notas):\n",
    "        self.nombre=nombre\n",
    "        self.nota_media=sum(notas)*1.0/len(notas) # ¿Por qué multiplicar por 1.0?\n",
    "```\n",
    "\n",
    "*Tras este paso, habrá que incluir en la clase un par de métodos para imprimir parámetros y mostrar el resultado de la evaluación. Expendiendo esta sección, encontrarás la solución del problema, intenta antes hacerlo por ti mismo y comparar los resultados.*"
   ]
  },
  {
   "cell_type": "markdown",
   "metadata": {
    "id": "Sv7T4VdTltMp"
   },
   "source": [
    "**Solución:** Los métodos faltantes son:\n",
    "\n",
    "```python\n",
    "    # función para imprimir los datos\n",
    "    def imprimir(self):\n",
    "      print(\"Nombre: \",self.nombre)\n",
    "      print(\"Nota media: \",self.nota_media)\n",
    " \n",
    " \n",
    "    # función para obtener el resultado\n",
    "    def resultado(self):\n",
    "      if self.nota_media < 5:\n",
    "        print(\"El alumno ha suspendido\")\n",
    "      else:\n",
    "        print(\"El alumno ha aprobado\")\n",
    "```\n",
    "\n",
    "Ahora probamos el código con un ejemplo:"
   ]
  },
  {
   "cell_type": "code",
   "execution_count": 12,
   "metadata": {
    "colab": {
     "base_uri": "https://localhost:8080/"
    },
    "executionInfo": {
     "elapsed": 931,
     "status": "ok",
     "timestamp": 1618390679685,
     "user": {
      "displayName": "Antonio Zarauz",
      "photoUrl": "https://lh3.googleusercontent.com/a-/AOh14GgtO8nEuu89OGTxFt1-tPpQH0g3g58ZPuU77GYb=s64",
      "userId": "06376112960872681649"
     },
     "user_tz": -120
    },
    "id": "mNt1lO-tISQn",
    "outputId": "e395cf47-764b-4c40-ba2d-c0a0636f6e76"
   },
   "outputs": [
    {
     "name": "stdout",
     "output_type": "stream",
     "text": [
      "Nombre:  Juan\n",
      "Nota:  7\n",
      "Aprobado\n"
     ]
    }
   ],
   "source": [
    "class Alumno:\n",
    "    def __init__(self, nombre, nota):\n",
    "        self.nombre = nombre\n",
    "        self.nota = nota\n",
    "\n",
    "    def imprimir(self):\n",
    "        print(\"Nombre: \", self.nombre)\n",
    "        print(\"Nota: \",self.nota)\n",
    "\n",
    "    def evaluar(self):\n",
    "        if self.nota >= 5:\n",
    "            print(\"Aprobado\")\n",
    "        else:\n",
    "            print(\"Suspendido\")\n",
    "\n",
    "alumno1 = Alumno(\"Juan\", 7)\n",
    "alumno1.imprimir()\n",
    "alumno1.evaluar()\n"
   ]
  },
  {
   "cell_type": "markdown",
   "metadata": {
    "id": "e61YxYtDIrwT"
   },
   "source": [
    "# Avanzado: Clases (II)\n",
    "\n",
    "Realizar una clase que administre una agenda. Se debe almacenar para cada contacto el nombre, el teléfono y el email. Además deberá mostrar un menú con las siguientes opciones:\n",
    "\n",
    "*  Añadir contacto\n",
    "*  Lista de contactos\n",
    "*  Buscar contacto\n",
    "*  Editar contacto\n",
    "*  Cerrar agenda"
   ]
  },
  {
   "cell_type": "code",
   "execution_count": null,
   "metadata": {
    "colab": {
     "base_uri": "https://localhost:8080/"
    },
    "executionInfo": {
     "elapsed": 11011,
     "status": "ok",
     "timestamp": 1618232198117,
     "user": {
      "displayName": "Antonio Zarauz",
      "photoUrl": "https://lh3.googleusercontent.com/a-/AOh14GgtO8nEuu89OGTxFt1-tPpQH0g3g58ZPuU77GYb=s64",
      "userId": "06376112960872681649"
     },
     "user_tz": -120
    },
    "id": "QM4NH1GVI36w",
    "outputId": "893932ac-c196-4e7f-e3cd-534bb92d50ad"
   },
   "outputs": [
    {
     "name": "stdout",
     "output_type": "stream",
     "text": [
      "\n",
      "Agenda Personal\n",
      "1. Añadir Contacto\n",
      "2. Lista de contactos\n",
      "3. Buscar contacto\n",
      "4. Editar contacto\n",
      "5. Cerrar agenda\n",
      "Introduzca la opción deseada: 3\n",
      "---------------------\n",
      "Buscador de contactos\n",
      "---------------------\n",
      "Introduzca el nombre del contacto: Antonio\n",
      "Datos del contacto\n",
      "Nombre:  Antonio\n",
      "Teléfono:  644752766\n",
      "E-mail:  azm630@inlumine.ual.es\n"
     ]
    }
   ],
   "source": []
  }
 ],
 "metadata": {
  "colab": {
   "collapsed_sections": [
    "gpYpfsuvIA3w",
    "e61YxYtDIrwT"
   ],
   "name": "02-Python Crash Course Ejercicios.ipynb",
   "provenance": []
  },
  "kernelspec": {
   "display_name": "Python 3",
   "language": "python",
   "name": "python3"
  },
  "language_info": {
   "codemirror_mode": {
    "name": "ipython",
    "version": 3
   },
   "file_extension": ".py",
   "mimetype": "text/x-python",
   "name": "python",
   "nbconvert_exporter": "python",
   "pygments_lexer": "ipython3",
   "version": "3.10.11"
  }
 },
 "nbformat": 4,
 "nbformat_minor": 0
}
